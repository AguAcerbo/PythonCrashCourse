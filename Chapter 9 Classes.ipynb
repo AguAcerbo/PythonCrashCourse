{
 "cells": [
  {
   "cell_type": "markdown",
   "id": "38862048",
   "metadata": {},
   "source": [
    "# Chapter 9: Classes"
   ]
  },
  {
   "cell_type": "markdown",
   "id": "cae29ce0",
   "metadata": {},
   "source": [
    "<p style='text-align: justify;'>\n",
    "Object-oriented programming is one of the most effective approaches to writing software. In object-oriented programming you write classes that represent real-world things and situations, and you create objects based on these classes.\n",
    "<p>"
   ]
  },
  {
   "cell_type": "markdown",
   "id": "3b1680af",
   "metadata": {},
   "source": [
    "**9-1.** Restaurant: Make a class called Restaurant. The __init__() method for Restaurant should store two attributes: a restaurant_name and a cuisine_type. Make a method called describe_restaurant() that prints these two pieces of information, and a method called open_restaurant() that prints a message indicating that the restaurant is open. Make an instance called restaurant from your class. Print the two attributes individually, and then call both methods."
   ]
  },
  {
   "cell_type": "code",
   "execution_count": 13,
   "id": "1af91791",
   "metadata": {},
   "outputs": [],
   "source": [
    "class Restaurant:\n",
    "    \"\"\"\n",
    "    Class Restaurant.\n",
    "    Attributes: name, cuisine type\n",
    "    Activities: Opened or not opened\n",
    "    \"\"\"\n",
    "    def __init__(self, name, cuisine_type):\n",
    "        self.name = name\n",
    "        self.cuisine_type = cuisine_type\n",
    "        \n",
    "    def openned(self):\n",
    "        print(f\"The restaurant {self.name} is open\")    "
   ]
  },
  {
   "cell_type": "code",
   "execution_count": 17,
   "id": "703c26e4",
   "metadata": {},
   "outputs": [
    {
     "name": "stdout",
     "output_type": "stream",
     "text": [
      "My restaurant name is Agus' Pastas\n",
      "My restaurant's cuisine type is Pastas & Pizzas\n",
      "The restaurant Agus' Pastas is open\n"
     ]
    }
   ],
   "source": [
    "my_restaurant = Restaurant(name = \"Agus' Pastas\", cuisine_type = \"Pastas & Pizzas\")\n",
    "\n",
    "print(f\"My restaurant name is {my_restaurant.name}\")\n",
    "print(f\"My restaurant's cuisine type is {my_restaurant.cuisine_type}\")\n",
    "\n",
    "my_restaurant.openned()"
   ]
  },
  {
   "cell_type": "markdown",
   "id": "dca2d2fe",
   "metadata": {},
   "source": [
    "**9-2.** Three Restaurants: Start with your class from Exercise 9-1. Create three different instances from the class, and call describe_restaurant() for each instance."
   ]
  },
  {
   "cell_type": "code",
   "execution_count": 18,
   "id": "4113ff84",
   "metadata": {},
   "outputs": [
    {
     "name": "stdout",
     "output_type": "stream",
     "text": [
      "My restaurant name is La Bodeguita\n",
      "My restaurant's cuisine type is drinks and burgers\n",
      "The restaurant La Bodeguita is open\n",
      "\n",
      "My restaurant name is Parador Antares\n",
      "My restaurant's cuisine type is pizzas and beer\n",
      "The restaurant Parador Antares is open\n",
      "\n",
      "My restaurant name is Canela Fina\n",
      "My restaurant's cuisine type is coffee\n",
      "The restaurant Canela Fina is open\n"
     ]
    }
   ],
   "source": [
    "la_bodeguita = Restaurant(name = \"La Bodeguita\", cuisine_type = \"drinks and burgers\")\n",
    "parador_antares = Restaurant(name = \"Parador Antares\", cuisine_type = \"pizzas and beer\")\n",
    "canela_fina = Restaurant(name = \"Canela Fina\", cuisine_type = \"coffee\")\n",
    "\n",
    "print(f\"My restaurant name is {la_bodeguita.name}\")\n",
    "print(f\"My restaurant's cuisine type is {la_bodeguita.cuisine_type}\")\n",
    "la_bodeguita.openned()\n",
    "print()\n",
    "print(f\"My restaurant name is {parador_antares.name}\")\n",
    "print(f\"My restaurant's cuisine type is {parador_antares.cuisine_type}\")\n",
    "parador_antares.openned()\n",
    "print()\n",
    "print(f\"My restaurant name is {canela_fina.name}\")\n",
    "print(f\"My restaurant's cuisine type is {canela_fina.cuisine_type}\")\n",
    "canela_fina.openned()"
   ]
  },
  {
   "cell_type": "markdown",
   "id": "6730f06a",
   "metadata": {},
   "source": [
    "**9-3.** Users: Make a class called User. Create two attributes called first_name and last_name, and then create several other attributes that are typically stored in a user profile. Make a method called describe_user() that prints a summary of the user’s information. Make another method called greet_user() that prints a personalized greeting to the user.\n",
    "\n",
    "Create several instances representing different users, and call both methods for each user."
   ]
  },
  {
   "cell_type": "code",
   "execution_count": 22,
   "id": "73230e1b",
   "metadata": {},
   "outputs": [],
   "source": [
    "class User:\n",
    "    def __init__(self, first_name, last_name, age, city):\n",
    "        self.first_name = first_name\n",
    "        self.last_name = last_name\n",
    "        self.age = age\n",
    "        self.city = city\n",
    "        \n",
    "    def describe_user(self):\n",
    "        print(f\"Nombre {self.first_name}\")\n",
    "        print(f\"Last Name: {self.last_name}\")\n",
    "        print(f\"Age: {self.age}\")\n",
    "        print(f\"City: {self.city}\")\n",
    "        \n",
    "    def greet_user(self):\n",
    "        print(f\"Greetings {self.first_name} {self.last_name}\")"
   ]
  },
  {
   "cell_type": "code",
   "execution_count": 24,
   "id": "c5d6dd07",
   "metadata": {},
   "outputs": [
    {
     "name": "stdout",
     "output_type": "stream",
     "text": [
      "Nombre Agustin\n",
      "Last Name: Acerbo\n",
      "Age: 28\n",
      "City: Rosario\n",
      "Nombre Camila\n",
      "Last Name: Lopez\n",
      "Age: 22\n",
      "City: Chacabuco\n",
      "Nombre Matilde\n",
      "Last Name: Cangiaso\n",
      "Age: 55\n",
      "City: Buenos Aires\n",
      "\n",
      "Greetings Agustin Acerbo\n",
      "Greetings Camila Lopez\n",
      "Greetings Matilde Cangiaso\n"
     ]
    }
   ],
   "source": [
    "user1 = User(\"Agustin\", \"Acerbo\", 28, \"Rosario\")\n",
    "user2 = User(\"Camila\", \"Lopez\", 22, \"Chacabuco\")\n",
    "user3 = User(\"Matilde\", \"Cangiaso\", 55, \"Buenos Aires\")\n",
    "\n",
    "user1.describe_user()\n",
    "user2.describe_user()\n",
    "user3.describe_user()\n",
    "print()\n",
    "user1.greet_user()\n",
    "user2.greet_user()\n",
    "user3.greet_user()"
   ]
  },
  {
   "cell_type": "markdown",
   "id": "ee5e8fd7",
   "metadata": {},
   "source": [
    "**9-4.** Number Served: Start with your program from Exercise 9-1 (page 162). Add an attribute called number_served with a default value of 0. Create an instance called restaurant from this class. Print the number of customers the restaurant has served, and then change this value and print it again.\n",
    "\n",
    "Add a method called set_number_served() that lets you set the number of customers that have been served. Call this method with a new number and print the value again.\n",
    "\n",
    "Add a method called increment_number_served() that lets you increment the number of customers who’ve been served. Call this method with any number you like that could represent how many customers were served in, say, a day of business."
   ]
  },
  {
   "cell_type": "code",
   "execution_count": 70,
   "id": "3dc6c84b",
   "metadata": {},
   "outputs": [],
   "source": [
    "class Restaurant2:\n",
    "    \"\"\"\n",
    "    Class Restaurant.\n",
    "    Attributes: name, cuisine type\n",
    "    Activities: Opened or not opened\n",
    "    \"\"\"\n",
    "    def __init__(self, name, cuisine_type, number_served = 0):\n",
    "        self.name = name\n",
    "        self.cuisine_type = cuisine_type\n",
    "        self.number_served = number_served\n",
    "        \n",
    "    def openned(self):\n",
    "        print(f\"The restaurant {self.name} is open\")\n",
    "        \n",
    "    def set_number_served(self, cant):\n",
    "        if cant > self.number_served:\n",
    "            self.number_served = cant\n",
    "        else:\n",
    "            print(\"The new number must be greater than the previous one.\")\n",
    "            \n",
    "    def increment_number_served(self, number):\n",
    "        if (number > 0) and (int(number) == number):\n",
    "            self.number_served += number\n",
    "        else:\n",
    "            print(\"The number is incorrect\")"
   ]
  },
  {
   "cell_type": "code",
   "execution_count": 71,
   "id": "06291062",
   "metadata": {},
   "outputs": [
    {
     "name": "stdout",
     "output_type": "stream",
     "text": [
      "0\n",
      "10\n"
     ]
    }
   ],
   "source": [
    "restaurant1 = Restaurant2(\"Tacos\", \"Mexican Food\")\n",
    "\n",
    "print(restaurant1.number_served)\n",
    "\n",
    "restaurant1.number_served = 10\n",
    "\n",
    "print(restaurant1.number_served)"
   ]
  },
  {
   "cell_type": "code",
   "execution_count": 72,
   "id": "56821ac5",
   "metadata": {},
   "outputs": [
    {
     "name": "stdout",
     "output_type": "stream",
     "text": [
      "10\n",
      "15\n",
      "The new number must be greater than the previous one.\n",
      "15\n"
     ]
    }
   ],
   "source": [
    "print(restaurant1.number_served)\n",
    "restaurant1.set_number_served(15)\n",
    "print(restaurant1.number_served)\n",
    "restaurant1.set_number_served(5)\n",
    "print(restaurant1.number_served)"
   ]
  },
  {
   "cell_type": "code",
   "execution_count": 73,
   "id": "1f332524",
   "metadata": {},
   "outputs": [
    {
     "name": "stdout",
     "output_type": "stream",
     "text": [
      "15\n",
      "30\n",
      "The number is incorrect\n",
      "30\n",
      "The number is incorrect\n",
      "30\n"
     ]
    }
   ],
   "source": [
    "print(restaurant1.number_served)\n",
    "restaurant1.increment_number_served(15)\n",
    "print(restaurant1.number_served)\n",
    "restaurant1.increment_number_served(-5)\n",
    "print(restaurant1.number_served)\n",
    "restaurant1.increment_number_served(0.5)\n",
    "print(restaurant1.number_served)"
   ]
  },
  {
   "cell_type": "markdown",
   "id": "ff89c6de",
   "metadata": {},
   "source": [
    "**9-5.** Login Attempts: Add an attribute called login_attempts to your User class from Exercise 9-3 (page 162). Write a method called increment_login_attempts() that increments the value of login_attempts by 1. Write another method called reset_login_attempts() that resets the value of login_attempts to 0.\n",
    "\n",
    "Make an instance of the User class and call increment_login_attempts() several times. Print the value of login_attempts to make sure it was incremented properly, and then call reset_login_attempts(). Print login_attempts again to make sure it was reset to 0."
   ]
  },
  {
   "cell_type": "code",
   "execution_count": 67,
   "id": "65f1e924",
   "metadata": {},
   "outputs": [],
   "source": [
    "class User1:\n",
    "    def __init__(self, first_name, last_name, age, city):\n",
    "        self.first_name = first_name\n",
    "        self.last_name = last_name\n",
    "        self.age = age\n",
    "        self.city = city\n",
    "        self.login_attemps = 0\n",
    "        \n",
    "    def describe_user(self):\n",
    "        print(f\"Full Name: {self.first_name} {self.last_name}\")\n",
    "        print(f\"Age: {self.age}\")\n",
    "        print(f\"City: {self.city}\")\n",
    "        \n",
    "    def greet_user(self):\n",
    "        print(f\"Greetings {self.first_name} {self.last_name}\")\n",
    "        \n",
    "    def increment_login_attempts(self):\n",
    "        self.login_attemps += 1\n",
    "        \n",
    "    def reset_login_attempts(self):\n",
    "        self.login_attemps = 0"
   ]
  },
  {
   "cell_type": "code",
   "execution_count": 68,
   "id": "d76b7499",
   "metadata": {},
   "outputs": [
    {
     "name": "stdout",
     "output_type": "stream",
     "text": [
      "Full Name: Agustin Acerbo\n",
      "Age: 28\n",
      "City: Rosario\n"
     ]
    }
   ],
   "source": [
    "user4 = User1(\"Agustin\", \"Acerbo\", 28, \"Rosario\")\n",
    "user4.describe_user()"
   ]
  },
  {
   "cell_type": "code",
   "execution_count": 69,
   "id": "86b015e5",
   "metadata": {},
   "outputs": [
    {
     "name": "stdout",
     "output_type": "stream",
     "text": [
      "0\n",
      "1\n",
      "2\n",
      "0\n"
     ]
    }
   ],
   "source": [
    "print(user4.login_attemps)\n",
    "user4.increment_login_attempts()\n",
    "print(user4.login_attemps)\n",
    "user4.increment_login_attempts()\n",
    "print(user4.login_attemps)\n",
    "user4.reset_login_attempts()\n",
    "print(user4.login_attemps)"
   ]
  },
  {
   "cell_type": "markdown",
   "id": "98cff280",
   "metadata": {},
   "source": [
    "**9-6.** Ice Cream Stand: An ice cream stand is a specific kind of restaurant. Write a class called IceCreamStand that inherits from the Restaurant class you wrote in Exercise 9-1 (page 162) or Exercise 9-4 (page 167). Either version of the class will work; just pick the one you like better.\n",
    "\n",
    "Add an attribute called flavors that stores a list of ice cream flavors.\n",
    "\n",
    "Write a method that displays these flavors. Create an instance of IceCreamStand, and call this method.\n"
   ]
  },
  {
   "cell_type": "code",
   "execution_count": 93,
   "id": "eac9b3f9",
   "metadata": {},
   "outputs": [],
   "source": [
    "class IceCreamStand(Restaurant2):\n",
    "    def __init__(self,name, cuisine_type, number_served=0, flavors = 0):\n",
    "        super().__init__(name, cuisine_type, number_served)\n",
    "        self.flavors = []\n",
    "    \n",
    "    def add_flavors(self,flavs):\n",
    "        self.flavors.append(flavs)\n",
    "    \n",
    "    def display_flavors(self):\n",
    "        if not self.flavors:\n",
    "            print(\"No Flavors\")\n",
    "        else:\n",
    "            print(\"List of ice cream flavors:\")\n",
    "            for flavor in self.flavors:\n",
    "                print(f\"\\t{flavor}\")\n"
   ]
  },
  {
   "cell_type": "code",
   "execution_count": 94,
   "id": "95a210e1",
   "metadata": {},
   "outputs": [
    {
     "name": "stdout",
     "output_type": "stream",
     "text": [
      "No Flavors\n",
      "List of ice cream flavors:\n",
      "\tChocolate\n",
      "\tDulce de Leche\n"
     ]
    }
   ],
   "source": [
    "ice_stand = IceCreamStand(\"Yomo\", \"Ice Cream\")\n",
    "\n",
    "ice_stand.display_flavors()\n",
    "ice_stand.add_flavors(\"Chocolate\")\n",
    "ice_stand.add_flavors(\"Dulce de Leche\")\n",
    "ice_stand.display_flavors()\n"
   ]
  },
  {
   "cell_type": "markdown",
   "id": "a512b432",
   "metadata": {},
   "source": [
    "**9-7.** Admin: An administrator is a special kind of user. Write a class called Admin that inherits from the User class you wrote in Exercise 9-3 (page 162) or Exercise 9-5 (page 167).\n",
    "\n",
    "Add an attribute, privileges, that stores a list of strings like \"can add post\", \"can delete post\", \"can ban user\", and so on.\n",
    "\n",
    "Write a method called show_privileges() that lists the administrator’s set of privileges. Create an instance of Admin, and call your method.\n"
   ]
  },
  {
   "cell_type": "code",
   "execution_count": 97,
   "id": "942b20ad",
   "metadata": {},
   "outputs": [],
   "source": [
    "class Admin(User1):\n",
    "    def __init__(self,first_name, last_name, age, city):\n",
    "        super().__init__(first_name, last_name, age, city)\n",
    "        self.privileges = [\"can add post\", \"can delete post\", \"can ban user\", \n",
    "                           \"can add user\", \"can reset password\", \"can eliminate user\"]\n",
    "    \n",
    "    def show_privileges(self):\n",
    "        if not self.privileges:\n",
    "            print(\"No privileges\")\n",
    "        else:\n",
    "            print(\"List of privileges:\")\n",
    "            for privilege in self.privileges:\n",
    "                print(f\"\\t{privilege}\")"
   ]
  },
  {
   "cell_type": "code",
   "execution_count": 99,
   "id": "cd3b0f6e",
   "metadata": {},
   "outputs": [
    {
     "name": "stdout",
     "output_type": "stream",
     "text": [
      "List of privileges:\n",
      "\tcan add post\n",
      "\tcan delete post\n",
      "\tcan ban user\n",
      "\tcan add user\n",
      "\tcan reset password\n",
      "\tcan eliminate user\n",
      "Full Name: Agustin Acerbo\n",
      "Age: 28\n",
      "City: Rosario\n"
     ]
    }
   ],
   "source": [
    "adm1 = Admin(\"Agustin\", \"Acerbo\", 28, \"Rosario\")\n",
    "adm1.show_privileges()\n",
    "adm1.describe_user()"
   ]
  },
  {
   "cell_type": "markdown",
   "id": "b776d12a",
   "metadata": {},
   "source": [
    "**9-8.** Privileges: Write a separate Privileges class. The class should have one attribute, privileges, that stores a list of strings as described in Exercise 9-7.\n",
    "\n",
    "Move the show_privileges() method to this class. Make a Privileges instance as an attribute in the Admin class. Create a new instance of Admin and use your method to show its privileges."
   ]
  },
  {
   "cell_type": "code",
   "execution_count": 101,
   "id": "57858182",
   "metadata": {},
   "outputs": [],
   "source": [
    "class Privileges():\n",
    "    def __init__(self):\n",
    "        self.privileges = [\"can add post\", \"can delete post\", \"can ban user\", \n",
    "                           \"can add user\", \"can reset password\", \"can eliminate user\"]\n",
    "    \n",
    "    def show_privileges(self):\n",
    "        if not self.privileges:\n",
    "            print(\"No privileges\")\n",
    "        else:\n",
    "            print(\"List of privileges:\")\n",
    "            for privilege in self.privileges:\n",
    "                print(f\"\\t{privilege}\")\n",
    "        \n",
    "\n",
    "class Admin1(User1):\n",
    "    def __init__(self,first_name, last_name, age, city):\n",
    "        super().__init__(first_name, last_name, age, city)\n",
    "        self.privileges = Privileges()"
   ]
  },
  {
   "cell_type": "code",
   "execution_count": 102,
   "id": "5f373217",
   "metadata": {},
   "outputs": [
    {
     "name": "stdout",
     "output_type": "stream",
     "text": [
      "Full Name: Agustin Acerbo\n",
      "Age: 28\n",
      "City: Rosario\n"
     ]
    }
   ],
   "source": [
    "adm2 = Admin1(\"Agustin\", \"Acerbo\", 28, \"Rosario\")\n",
    "adm2.describe_user()"
   ]
  },
  {
   "cell_type": "code",
   "execution_count": 103,
   "id": "a505ae5a",
   "metadata": {},
   "outputs": [
    {
     "name": "stdout",
     "output_type": "stream",
     "text": [
      "List of privileges:\n",
      "\tcan add post\n",
      "\tcan delete post\n",
      "\tcan ban user\n",
      "\tcan add user\n",
      "\tcan reset password\n",
      "\tcan eliminate user\n"
     ]
    }
   ],
   "source": [
    "adm2.privileges.show_privileges()"
   ]
  },
  {
   "cell_type": "markdown",
   "id": "91c2b2fe",
   "metadata": {},
   "source": [
    "**9-9.** Battery Upgrade: Use the final version of electric_car.py from this section.\n",
    "\n",
    "Add a method to the Battery class called upgrade_battery(). This method should check the battery size and set the capacity to 100 if it isn’t already. Make an electric car with a default battery size, call get_range() once, and then call get_range() a second time after upgrading the battery. You should see an increase in the car’s range."
   ]
  },
  {
   "cell_type": "code",
   "execution_count": 107,
   "id": "4562001f",
   "metadata": {},
   "outputs": [],
   "source": [
    "class Car:\n",
    "    \"\"\"A simple attempt to represent a car.\"\"\"\n",
    "    def __init__(self, make, model, year):\n",
    "        self.make = make\n",
    "        self.model = model\n",
    "        self.year = year\n",
    "        self.odometer_reading = 0\n",
    "        \n",
    "    def get_descriptive_name(self):\n",
    "        long_name = f\"{self.year} {self.manufacturer} {self.model}\"\n",
    "        return long_name.title()\n",
    "    \n",
    "    def read_odometer(self):\n",
    "        print(f\"This car has {self.odometer_reading} miles on it.\")\n",
    "        \n",
    "    def update_odometer(self, mileage):\n",
    "        if mileage >= self.odometer_reading:\n",
    "            self.odometer_reading = mileage\n",
    "        else:\n",
    "            print(\"You can't roll back an odometer!\")\n",
    "\n",
    "    def increment_odometer(self, miles):\n",
    "        self.odometer_reading += miles"
   ]
  },
  {
   "cell_type": "code",
   "execution_count": 108,
   "id": "234e2344",
   "metadata": {},
   "outputs": [],
   "source": [
    "class Battery:\n",
    "    \"\"\"A simple attempt to model a battery for an electric car.\"\"\"\n",
    "    def __init__(self, battery_size=75):\n",
    "        \"\"\"Initialize the battery's attributes.\"\"\"\n",
    "        self.battery_size = battery_size\n",
    "    \n",
    "    def describe_battery(self):\n",
    "        \"\"\"Print a statement describing the battery size.\"\"\"\n",
    "        print(f\"This car has a {self.battery_size}-kWh battery.\")\n",
    "        \n",
    "    def get_range(self):\n",
    "        \"\"\"Print a statement about the range this battery provides.\"\"\"\n",
    "        if self.battery_size == 75:\n",
    "            range = 260\n",
    "        elif self.battery_size == 100:\n",
    "            range = 315\n",
    "        print(f\"This car can go about {range} miles on a full charge.\")\n",
    "        \n",
    "    def upgrade_battery(self):\n",
    "        \n",
    "        \"\"\"\n",
    "        This method check the battery size and set the capacity to 100 if it isn’t already.\n",
    "        \"\"\"\n",
    "        if self.battery_size < 100:\n",
    "            self.battery_size = 100\n",
    "            print(\"The battery was upgraded to 100 kWh\")\n",
    "        else:\n",
    "            print(\"The battery can not be upgraded\")"
   ]
  },
  {
   "cell_type": "code",
   "execution_count": 109,
   "id": "1a64ae61",
   "metadata": {},
   "outputs": [],
   "source": [
    "class ElectricCar(Car):\n",
    "    \"\"\"Represent aspects of a car, specific to electric vehicles.\"\"\"\n",
    "    def __init__(self, make, model, year):\n",
    "        \"\"\"\n",
    "        Initialize attributes of the parent class.\n",
    "        Then initialize attributes specific to an electric car.\n",
    "        \"\"\"\n",
    "        super().__init__(make, model, year)\n",
    "        self.battery = Battery()\n",
    "        \n",
    "    def describe_battery(self):\n",
    "        \"\"\"Print a statement describing the battery size.\"\"\"\n",
    "        print(f\"This car has a {self.battery_size}-kWh battery.\")\n",
    "        "
   ]
  },
  {
   "cell_type": "code",
   "execution_count": 110,
   "id": "8b162e93",
   "metadata": {},
   "outputs": [],
   "source": [
    "my_Tesla = ElectricCar(\"Tesla\", \"model s\", 2021)"
   ]
  },
  {
   "cell_type": "code",
   "execution_count": 111,
   "id": "a1d7023f",
   "metadata": {},
   "outputs": [
    {
     "name": "stdout",
     "output_type": "stream",
     "text": [
      "This car has a 75-kWh battery.\n"
     ]
    }
   ],
   "source": [
    "my_Tesla.battery.describe_battery()"
   ]
  },
  {
   "cell_type": "code",
   "execution_count": 112,
   "id": "bb2b5248",
   "metadata": {},
   "outputs": [
    {
     "name": "stdout",
     "output_type": "stream",
     "text": [
      "This car can go about 260 miles on a full charge.\n"
     ]
    }
   ],
   "source": [
    "my_Tesla.battery.get_range()"
   ]
  },
  {
   "cell_type": "code",
   "execution_count": 113,
   "id": "a8c2a5ad",
   "metadata": {},
   "outputs": [
    {
     "name": "stdout",
     "output_type": "stream",
     "text": [
      "The battery was upgraded to 100 kWh\n"
     ]
    }
   ],
   "source": [
    "my_Tesla.battery.upgrade_battery()"
   ]
  },
  {
   "cell_type": "code",
   "execution_count": 114,
   "id": "8ce1f3ef",
   "metadata": {},
   "outputs": [
    {
     "name": "stdout",
     "output_type": "stream",
     "text": [
      "This car has a 100-kWh battery.\n"
     ]
    }
   ],
   "source": [
    "my_Tesla.battery.describe_battery()"
   ]
  },
  {
   "cell_type": "code",
   "execution_count": 115,
   "id": "0deda03c",
   "metadata": {},
   "outputs": [
    {
     "name": "stdout",
     "output_type": "stream",
     "text": [
      "This car can go about 315 miles on a full charge.\n"
     ]
    }
   ],
   "source": [
    "my_Tesla.battery.get_range()"
   ]
  },
  {
   "cell_type": "code",
   "execution_count": 116,
   "id": "5912dca3",
   "metadata": {},
   "outputs": [
    {
     "name": "stdout",
     "output_type": "stream",
     "text": [
      "The battery can not be upgraded\n"
     ]
    }
   ],
   "source": [
    "my_Tesla.battery.upgrade_battery()"
   ]
  },
  {
   "cell_type": "markdown",
   "id": "d853f4ee",
   "metadata": {},
   "source": [
    "**9-13.** Dice: Make a class Die with one attribute called sides, which has a default value of 6. Write a method called roll_die() that prints a random number between 1 and the number of sides the die has. Make a 6-sided die and roll it 10 times.\n",
    "\n",
    "Make a 10-sided die and a 20-sided die. Roll each die 10 times."
   ]
  },
  {
   "cell_type": "code",
   "execution_count": 1,
   "id": "8595b59e",
   "metadata": {},
   "outputs": [],
   "source": [
    "from random import randint\n",
    "\n",
    "class Die():\n",
    "    def __init__(self, sides = 6):\n",
    "        self.sides = sides\n",
    "        \n",
    "    def roll_die(self):\n",
    "        return randint(1,self.sides)"
   ]
  },
  {
   "cell_type": "code",
   "execution_count": 6,
   "id": "d970dd99",
   "metadata": {},
   "outputs": [
    {
     "name": "stdout",
     "output_type": "stream",
     "text": [
      "Roll number 1: 5\n",
      "Roll number 2: 4\n",
      "Roll number 3: 6\n",
      "Roll number 4: 2\n",
      "Roll number 5: 3\n",
      "Roll number 6: 3\n",
      "Roll number 7: 5\n",
      "Roll number 8: 3\n",
      "Roll number 9: 4\n",
      "Roll number 10: 6\n"
     ]
    }
   ],
   "source": [
    "# 6 sided die\n",
    "die6 = Die()\n",
    "for roll in range(10):\n",
    "    print(f\"Roll number {roll+1}: {die6.roll_die()}\")"
   ]
  },
  {
   "cell_type": "code",
   "execution_count": 7,
   "id": "e6d89efd",
   "metadata": {},
   "outputs": [
    {
     "name": "stdout",
     "output_type": "stream",
     "text": [
      "Roll number 1: 3\n",
      "Roll number 2: 3\n",
      "Roll number 3: 8\n",
      "Roll number 4: 6\n",
      "Roll number 5: 3\n",
      "Roll number 6: 9\n",
      "Roll number 7: 6\n",
      "Roll number 8: 4\n",
      "Roll number 9: 3\n",
      "Roll number 10: 2\n"
     ]
    }
   ],
   "source": [
    "# 10 sided die\n",
    "die10 = Die(10)\n",
    "for roll in range(10):\n",
    "    print(f\"Roll number {roll+1}: {die10.roll_die()}\")"
   ]
  },
  {
   "cell_type": "code",
   "execution_count": 8,
   "id": "3219c5b9",
   "metadata": {},
   "outputs": [
    {
     "name": "stdout",
     "output_type": "stream",
     "text": [
      "Roll number 1: 17\n",
      "Roll number 2: 5\n",
      "Roll number 3: 13\n",
      "Roll number 4: 15\n",
      "Roll number 5: 7\n",
      "Roll number 6: 13\n",
      "Roll number 7: 20\n",
      "Roll number 8: 2\n",
      "Roll number 9: 17\n",
      "Roll number 10: 2\n"
     ]
    }
   ],
   "source": [
    "# 20 sided die\n",
    "die20 = Die(20)\n",
    "for roll in range(10):\n",
    "    print(f\"Roll number {roll+1}: {die20.roll_die()}\")"
   ]
  },
  {
   "cell_type": "markdown",
   "id": "4b03f7c9",
   "metadata": {},
   "source": [
    "**9-14.** Lottery: Make a list or tuple containing a series of 10 numbers and five letters. Randomly select four numbers or letters from the list and print a message saying that any ticket matching these four numbers or letters wins a prize."
   ]
  },
  {
   "cell_type": "code",
   "execution_count": 26,
   "id": "0f30aa11",
   "metadata": {},
   "outputs": [
    {
     "name": "stdout",
     "output_type": "stream",
     "text": [
      "Any ticket matching these four numbers or letters wins a prize ['a', '15', '88', 'r']\n"
     ]
    }
   ],
   "source": [
    "from random import choice\n",
    "\n",
    "lottery = ['1', '5', '9', '15', '4', '8','7', '54', '13', '88', 'a', 'd', 'b', 'e', 'r', 't']\n",
    "winner = []\n",
    "\n",
    "while (len(winner) < 4):\n",
    "    selection = choice(lottery)\n",
    "    if selection not in winner:\n",
    "        winner.append(selection)\n",
    "        \n",
    "print(f'Any ticket matching these four numbers or letters wins a prize {winner}')"
   ]
  },
  {
   "cell_type": "markdown",
   "id": "5ea89351",
   "metadata": {},
   "source": [
    "**9-15.** Lottery Analysis: You can use a loop to see how hard it might be to win the kind of lottery you just modeled. Make a list or tuple called my_ticket.\n",
    "\n",
    "Write a loop that keeps pulling numbers until your ticket wins. Print a message reporting how many times the loop had to run to give you a winning ticket.\n"
   ]
  },
  {
   "cell_type": "code",
   "execution_count": 27,
   "id": "27c59a2a",
   "metadata": {},
   "outputs": [
    {
     "name": "stdout",
     "output_type": "stream",
     "text": [
      "I won. Roll number 3193\n"
     ]
    }
   ],
   "source": [
    "lottery = ['1', '5', '9', '15', '4', '8','7', '54', '13', '88', 'a', 'd', 'b', 'e', 'r', 't']\n",
    "winner = []\n",
    "my_ticket = ['5', 'a', 'r', '7']\n",
    "i=0\n",
    "\n",
    "while True:\n",
    "    while (len(winner) < 4):\n",
    "        selection = choice(lottery)\n",
    "        if selection not in winner:\n",
    "            winner.append(selection)\n",
    "    if (winner[0] in my_ticket) and (winner[1] in my_ticket) and (winner[2] in my_ticket) and (winner[3] in my_ticket):\n",
    "        print(f\"I won. Roll number {i}\")\n",
    "        break\n",
    "    else:\n",
    "        i += 1\n",
    "        winner = []"
   ]
  },
  {
   "cell_type": "markdown",
   "id": "79b50fc3",
   "metadata": {},
   "source": [
    "**9-16.** Python Module of the Week: One excellent resource for exploring the Python standard library is a site called Python Module of the Week. Go to https://pymotw.com/ and look at the table of contents. Find a module that looks interesting to you and read about it, perhaps starting with the random module."
   ]
  },
  {
   "cell_type": "code",
   "execution_count": null,
   "id": "31bcd6d2",
   "metadata": {},
   "outputs": [],
   "source": []
  }
 ],
 "metadata": {
  "kernelspec": {
   "display_name": "Python 3",
   "language": "python",
   "name": "python3"
  },
  "language_info": {
   "codemirror_mode": {
    "name": "ipython",
    "version": 3
   },
   "file_extension": ".py",
   "mimetype": "text/x-python",
   "name": "python",
   "nbconvert_exporter": "python",
   "pygments_lexer": "ipython3",
   "version": "3.8.8"
  }
 },
 "nbformat": 4,
 "nbformat_minor": 5
}
