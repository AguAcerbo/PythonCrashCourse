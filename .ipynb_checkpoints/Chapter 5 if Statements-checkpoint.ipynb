{
 "cells": [
  {
   "cell_type": "markdown",
   "id": "f8fe4468",
   "metadata": {},
   "source": [
    "# Chapter 5: if Statements\n",
    "<p style='text-align: justify;'>\n",
    "Programming often involves examining a set of conditions and deciding which action to take based on those conditions. Python’s if statement allows you to examine the current state of a program and respond appropriately to that state. In this chapter you’ll learn to write conditional tests, which allow you to check any condition of interest. You’ll learn to write simple if statements, and you’ll learn how to create a more complex series of if statements to identify when the exact conditions you want are present. You’ll then apply this concept to lists, so you’ll be able to write a for loop that handles most items in a list one way but handles certain items with specific values in a different way.\n",
    "<p>"
   ]
  },
  {
   "cell_type": "markdown",
   "id": "3e30f98e",
   "metadata": {},
   "source": [
    "**5-1.** Conditional Tests: Write a series of conditional tests. Print a statement describing each test and your prediction for the results of each test. Your code should look something like this:\n",
    "***********************************************************************************\n",
    "car = 'subaru'\n",
    "\n",
    "print(\"Is car == 'subaru'? I predict True.\")\n",
    "\n",
    "print(car == 'subaru')\n",
    "\n",
    "print(\"\\nIs car == 'audi'? I predict False.\")\n",
    "\n",
    "print(car == 'audi')\n",
    "***********************************************************************************\n",
    "- Look closely at your results, and make sure you understand why each line \n",
    "evaluates to True or False.\n",
    "- Create at least ten tests. Have at least five tests evaluate to True and \n",
    "another five tests evaluate to False"
   ]
  },
  {
   "cell_type": "code",
   "execution_count": 1,
   "id": "d3e84150",
   "metadata": {},
   "outputs": [
    {
     "name": "stdout",
     "output_type": "stream",
     "text": [
      "Is reloj == 'samsung'? I predict True\n",
      "True\n",
      "Is reloj == 'apple'? I predict False\n",
      "False\n",
      "Is reloj != 'montreal'? I predict True\n",
      "False\n"
     ]
    }
   ],
   "source": [
    "reloj = \"samsung\"\n",
    "print(\"Is reloj == 'samsung'? I predict True\")\n",
    "print(reloj == \"samsung\")\n",
    "\n",
    "print(\"Is reloj == 'apple'? I predict False\")\n",
    "print(reloj == \"apple\")\n",
    "\n",
    "print(\"Is reloj != 'montreal'? I predict True\")\n",
    "print(reloj == \"montreal\")"
   ]
  },
  {
   "cell_type": "markdown",
   "id": "11f1289b",
   "metadata": {},
   "source": [
    "**5-2.** More Conditional Tests: You don’t have to limit the number of tests you create to ten. If you want to try more comparisons, write more tests and add them to conditional_tests.py. Have at least one True and one False result for each of the following:\n",
    "- Tests for equality and inequality with strings\n",
    "- Tests using the lower() method\n",
    "- Numerical tests involving equality and inequality, greater than and less than, greater than or equal to, and less than or equal to\n",
    "- Tests using the and keyword and the or keyword\n",
    "- Test whether an item is in a list\n",
    "- Test whether an item is not in a list"
   ]
  },
  {
   "cell_type": "code",
   "execution_count": 2,
   "id": "f193bdd8",
   "metadata": {},
   "outputs": [
    {
     "name": "stdout",
     "output_type": "stream",
     "text": [
      "Condiciones numericas:\n",
      "4 > 3 True\n",
      "4 == 3 False\n",
      "4 < 3 False\n",
      "4 >= 3 True\n",
      "4 <= 3 False\n",
      "\n",
      "Deteccion de provincias en la lista provincias\n",
      "Catamarca: True\n",
      "Usuahia: False\n",
      "Chaco: True\n",
      "Misiones: False\n"
     ]
    }
   ],
   "source": [
    "print(\"Condiciones numericas:\")\n",
    "print(f\"4 > 3 {4 > 3}\")\n",
    "print(f\"4 == 3 {4 == 3}\")\n",
    "print(f\"4 < 3 {4 < 3}\")\n",
    "print(f\"4 >= 3 {4 >= 3}\")\n",
    "print(f\"4 <= 3 {4 <= 3}\")\n",
    "\n",
    "provincias = [\"catamarca\", \"chaco\", \"santa fe\", \"san luis\", \"chubut\"]\n",
    "print()\n",
    "print(\"Deteccion de provincias en la lista provincias\")\n",
    "print(f\"Catamarca: {'catamarca' in provincias}\")\n",
    "print(f\"Usuahia: {'usuahia' in provincias}\")\n",
    "print(f\"Chaco: {'chaco' in provincias}\")\n",
    "print(f\"Misiones: {'misiones' in provincias}\")"
   ]
  },
  {
   "cell_type": "markdown",
   "id": "9a6ddef4",
   "metadata": {},
   "source": [
    "**5-3.** Alien Colors #1: Imagine an alien was just shot down in a game. Create a variable called alien_color and assign it a value of 'green', 'yellow', or 'red'.\n",
    "- Write an if statement to test whether the alien’s color is green. If it is, print a message that the player just earned 5 points.\n",
    "- Write one version of this program that passes the if test and another that fails. (The version that fails will have no output.)\n"
   ]
  },
  {
   "cell_type": "code",
   "execution_count": 3,
   "id": "a9dd86c5",
   "metadata": {},
   "outputs": [
    {
     "name": "stdout",
     "output_type": "stream",
     "text": [
      "Player: +5 points\n"
     ]
    }
   ],
   "source": [
    "alien_color = \"green\"\n",
    "\n",
    "if alien_color == \"green\":\n",
    "    print(\"Player: +5 points\")"
   ]
  },
  {
   "cell_type": "markdown",
   "id": "859b4c56",
   "metadata": {},
   "source": [
    "**5-4.** Alien Colors #2: Choose a color for an alien as you did in Exercise 5-3, and write an if-else chain.\n",
    "- If the alien’s color is green, print a statement that the player just earned 5 points for shooting the alien.\n",
    "- If the alien’s color isn’t green, print a statement that the player just earned 10 points.\n",
    "- Write one version of this program that runs the if block and another that runs the else block."
   ]
  },
  {
   "cell_type": "code",
   "execution_count": 4,
   "id": "b0c3595c",
   "metadata": {},
   "outputs": [
    {
     "name": "stdout",
     "output_type": "stream",
     "text": [
      "Player: +10 points\n"
     ]
    }
   ],
   "source": [
    "alien_color = \"blue\"\n",
    "\n",
    "if alien_color == \"green\":\n",
    "    print(\"Player: +5 points\")\n",
    "elif alien_color != \"green\":\n",
    "    print(\"Player: +10 points\")"
   ]
  },
  {
   "cell_type": "markdown",
   "id": "f0177742",
   "metadata": {},
   "source": [
    "**5-5.** Alien Colors #3: Turn your if-else chain from Exercise 5-4 into an if-elif\u0002else chain.\n",
    "- If the alien is green, print a message that the player earned 5 points.\n",
    "- If the alien is yellow, print a message that the player earned 10 points.\n",
    "- If the alien is red, print a message that the player earned 15 points.\n",
    "- Write three versions of this program, making sure each message is printed for the appropriate color alien.\n"
   ]
  },
  {
   "cell_type": "code",
   "execution_count": 5,
   "id": "bccc1acb",
   "metadata": {},
   "outputs": [
    {
     "name": "stdout",
     "output_type": "stream",
     "text": [
      "The ship is Green\n",
      "Player: +5 points\n",
      "The ship is Red\n",
      "Player: +15 points\n",
      "The ship is Yellow\n",
      "Player: +10 points\n",
      "The ship is Blue\n",
      "Color Error +0 points\n"
     ]
    }
   ],
   "source": [
    "alien_color = [\"green\", \"red\", \"yellow\", \"blue\"]\n",
    "\n",
    "for color in alien_color:\n",
    "    print(f\"The ship is {color.title()}\")\n",
    "    if color == \"green\":\n",
    "        print(\"Player: +5 points\")\n",
    "    elif color == \"yellow\":\n",
    "        print(\"Player: +10 points\")\n",
    "    elif color == \"red\":\n",
    "        print(\"Player: +15 points\")\n",
    "    else:\n",
    "        print(\"Color Error +0 points\")"
   ]
  },
  {
   "cell_type": "markdown",
   "id": "d59fde6d",
   "metadata": {},
   "source": [
    "**5-6.** Stages of Life: Write an if-elif-else chain that determines a person’s stage of life. Set a value for the variable age, and then:\n",
    "- If the person is less than 2 years old, print a message that the person is a baby.\n",
    "- If the person is at least 2 years old but less than 4, print a message that the person is a toddler.\n",
    "- If the person is at least 4 years old but less than 13, print a message that the person is a kid.\n",
    "- If the person is at least 13 years old but less than 20, print a message that the person is a teenager.\n",
    "- If the person is at least 20 years old but less than 65, print a message that the person is an adult.\n",
    "- If the person is age 65 or older, print a message that the person is an elder.\n"
   ]
  },
  {
   "cell_type": "code",
   "execution_count": 6,
   "id": "f300789e",
   "metadata": {},
   "outputs": [
    {
     "name": "stdout",
     "output_type": "stream",
     "text": [
      "Edad: 1:\n",
      "The person is a baby\n",
      "\n",
      "Edad: 40:\n",
      "The person is an adult\n",
      "\n",
      "Edad: 25:\n",
      "The person is an adult\n",
      "\n",
      "Edad: 7:\n",
      "The person is a kid\n",
      "\n",
      "Edad: 15:\n",
      "The person is a teenager\n",
      "\n",
      "Edad: 85:\n",
      "The person is an elder\n",
      "\n"
     ]
    }
   ],
   "source": [
    "ages = [1, 40, 25, 7, 15, 85]\n",
    "for age in ages:\n",
    "    print(f\"Edad: {age}:\")\n",
    "    if age < 2:\n",
    "        print(\"The person is a baby\\n\")\n",
    "    elif age < 4:\n",
    "        print(\"The person is a toddler\\n\")\n",
    "    elif age < 13:\n",
    "        print(\"The person is a kid\\n\")\n",
    "    elif age < 20:\n",
    "        print(\"The person is a teenager\\n\")\n",
    "    elif age < 65:\n",
    "        print(\"The person is an adult\\n\")\n",
    "    elif age >= 65:\n",
    "        print(\"The person is an elder\\n\")"
   ]
  },
  {
   "cell_type": "markdown",
   "id": "901f6ef9",
   "metadata": {},
   "source": [
    "**5-7.** Favorite Fruit: Make a list of your favorite fruits, and then write a series of independent if statements that check for certain fruits in your list.\n",
    "- Make a list of your three favorite fruits and call it favorite_fruits.\n",
    "- Write five if statements. Each should check whether a certain kind of fruit \n",
    "is in your list. If the fruit is in your list, the if block should print a statement, such as You really like bananas!"
   ]
  },
  {
   "cell_type": "code",
   "execution_count": 7,
   "id": "364c3dd4",
   "metadata": {},
   "outputs": [
    {
     "name": "stdout",
     "output_type": "stream",
     "text": [
      "Manzana is not one of my favorite fruits\n",
      "I really like banana\n",
      "I really like durazno\n",
      "Melon is not one of my favorite fruits\n"
     ]
    }
   ],
   "source": [
    "favourite_fruit = [\"sandia\", \"durazno\", \"banana\", \"cerezas\"]\n",
    "fruits = [\"manzana\", \"banana\", \"durazno\", \"melon\"]\n",
    "\n",
    "for fruit in fruits:\n",
    "    if fruit.lower() in favourite_fruit:\n",
    "        print(f\"I really like {fruit}\")\n",
    "    else:\n",
    "        print(f\"{fruit.title()} is not one of my favorite fruits\")"
   ]
  },
  {
   "cell_type": "markdown",
   "id": "f0a183c2",
   "metadata": {},
   "source": [
    "**5-8.** Hello Admin: Make a list of five or more usernames, including the name 'admin'. Imagine you are writing code that will print a greeting to each user after they log in to a website. Loop through the list, and print a greeting to each user:\n",
    "- If the username is 'admin', print a special greeting, such as Hello admin, would you like to see a status report?\n",
    "- Otherwise, print a generic greeting, such as Hello Jaden, thank you for logging in again.\n",
    "\n",
    "**5-9.** No Users: Add an if test to hello_admin.py to make sure the list of users is not empty.\n",
    "- If the list is empty, print the message We need to find some users!\n",
    "- Remove all of the usernames from your list, and make sure the correct message is printed."
   ]
  },
  {
   "cell_type": "code",
   "execution_count": 8,
   "id": "4e1e5d00",
   "metadata": {},
   "outputs": [
    {
     "name": "stdout",
     "output_type": "stream",
     "text": [
      "We need to find some users!!\n"
     ]
    }
   ],
   "source": [
    "# users = [\"admin\", \"agustin\", \"matias\", \"juanpa\", \"natalia\", \"lupe\"]\n",
    "users = []\n",
    "\n",
    "if users:\n",
    "    for user in users:\n",
    "        if user == \"admin\":\n",
    "            print(f\"Hello {user.title()}, would you like to see a status report?\")\n",
    "        else:\n",
    "            print(f\"Hello {user.title()}, thanks you for logging in again.\")\n",
    "else:\n",
    "    print(\"We need to find some users!!\")"
   ]
  },
  {
   "cell_type": "markdown",
   "id": "20643ce6",
   "metadata": {},
   "source": [
    "**5-10.** Checking Usernames: Do the following to create a program that simulates how websites ensure that everyone has a unique username.\n",
    "- Make a list of five or more usernames called current_users.\n",
    "- Make another list of five usernames called new_users. Make sure one or two of the new usernames are also in the current_users list.\n",
    "- Loop through the new_users list to see if each new username has already been used. If it has, print a message that the person will need to enter a new username. If a username has not been used, print a message saying that the username is available.\n",
    "- Make sure your comparison is case insensitive. If 'John' has been used, 'JOHN' should not be accepted. (To do this, you’ll need to make a copy of current_users containing the lowercase versions of all existing users.)\n"
   ]
  },
  {
   "cell_type": "code",
   "execution_count": 9,
   "id": "8862cddc",
   "metadata": {},
   "outputs": [
    {
     "name": "stdout",
     "output_type": "stream",
     "text": [
      "The username cori is available.\n",
      "The username irina is available.\n",
      "The username nacho is available.\n",
      "Please introduce a new username. MATIAS is used.\n",
      "Please introduce a new username. Natalia is used.\n"
     ]
    }
   ],
   "source": [
    "current_users = [\"admin\", \"agustin\", \"matias\", \"juanpa\", \"natalia\", \"lupe\"]\n",
    "new_users = [\"cori\", \"irina\", \"nacho\", \"MATIAS\", \"Natalia\"]\n",
    "\n",
    "if new_users:\n",
    "    for user in new_users:\n",
    "        flag = 0\n",
    "        for user2 in current_users:\n",
    "            if user.lower() == user2.lower():\n",
    "                flag = 1\n",
    "        if flag == 1:\n",
    "            print(f\"Please introduce a new username. {user} is used.\")\n",
    "        else:\n",
    "            print(f\"The username {user} is available.\")"
   ]
  },
  {
   "cell_type": "markdown",
   "id": "6dc44be0",
   "metadata": {},
   "source": [
    "**5-11.** Ordinal Numbers: Ordinal numbers indicate their position in a list, such as 1st or 2nd. Most ordinal numbers end in th, except 1, 2, and 3.\n",
    "- Store the numbers 1 through 9 in a list.\n",
    "- Loop through the list.\n",
    "- Use an if-elif-else chain inside the loop to print the proper ordinal end\u0002ing for each number. Your output should read \"1st 2nd 3rd 4th 5th 6th 7th 8th 9th\", and each result should be on a separate line."
   ]
  },
  {
   "cell_type": "code",
   "execution_count": 10,
   "id": "8ee1ac58",
   "metadata": {},
   "outputs": [
    {
     "name": "stdout",
     "output_type": "stream",
     "text": [
      "1st.\n",
      "2nd.\n",
      "3rd.\n",
      "4th.\n",
      "5th.\n",
      "6th.\n",
      "7th.\n",
      "8th.\n",
      "9th.\n"
     ]
    }
   ],
   "source": [
    "numeros = [1, 2, 3, 4, 5, 6, 7, 8, 9]\n",
    "\n",
    "for nro in numeros:\n",
    "    if nro == 1:\n",
    "        print(f\"{nro}st.\")\n",
    "    elif nro == 2:\n",
    "        print(f\"{nro}nd.\")\n",
    "    elif nro == 3:\n",
    "        print(f\"{nro}rd.\")\n",
    "    else:\n",
    "        print(f\"{nro}th.\")\n"
   ]
  },
  {
   "cell_type": "code",
   "execution_count": null,
   "id": "fee7fb87",
   "metadata": {},
   "outputs": [],
   "source": []
  }
 ],
 "metadata": {
  "kernelspec": {
   "display_name": "Python 3",
   "language": "python",
   "name": "python3"
  },
  "language_info": {
   "codemirror_mode": {
    "name": "ipython",
    "version": 3
   },
   "file_extension": ".py",
   "mimetype": "text/x-python",
   "name": "python",
   "nbconvert_exporter": "python",
   "pygments_lexer": "ipython3",
   "version": "3.8.8"
  }
 },
 "nbformat": 4,
 "nbformat_minor": 5
}
