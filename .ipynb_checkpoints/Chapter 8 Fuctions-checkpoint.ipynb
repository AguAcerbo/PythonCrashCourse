{
 "cells": [
  {
   "cell_type": "markdown",
   "id": "8f54a53f",
   "metadata": {},
   "source": [
    "# Chapter 8: Functions\n",
    "<p style='text-align: justify;'>\n",
    "In this chapter you’ll learn to write functions, which are named blocks of code that are designed to do one specific job.\n",
    "When you want to perform a particular task that you’ve defined in a function, you call the function responsible for it. If you need to perform that task multiple times throughout your program, you don’t need to type all the code for the same task again and again; you just call the function dedicated to handling that task, and the call tells Python to run the code inside the\n",
    "function. You’ll find that using functions makes your programs easier to write, read, test, and fix. In this chapter you’ll also learn ways to pass information to functions. You’ll learn how to write certain functions whose primary job is to display\n",
    "information and other functions designed to process data and return a value or set of values. Finally, you’ll learn to store functions in separate files called modules to help organize your main program files.\n",
    "<p>"
   ]
  },
  {
   "cell_type": "markdown",
   "id": "96e8c5b5",
   "metadata": {},
   "source": [
    "**8-1.** Message: Write a function called display_message() that prints one sen-tence telling everyone what you are learning about in this chapter. Call the function, and make sure the message displays correctly."
   ]
  },
  {
   "cell_type": "code",
   "execution_count": 6,
   "id": "8142e018",
   "metadata": {},
   "outputs": [],
   "source": [
    "def display_message():\n",
    "    print(\"In this chapter I'm learning how to write functions and how to pass information to them.\")\n",
    "    print(\"I read about the difference between arguments and parameters.\")\n",
    "    return None"
   ]
  },
  {
   "cell_type": "code",
   "execution_count": 7,
   "id": "93030d87",
   "metadata": {},
   "outputs": [
    {
     "name": "stdout",
     "output_type": "stream",
     "text": [
      "In this chapter I'm learning how to write functions and how to pass information to them.\n",
      "I read about the difference between arguments and parameters.\n"
     ]
    }
   ],
   "source": [
    "display_message()"
   ]
  },
  {
   "cell_type": "markdown",
   "id": "c97875af",
   "metadata": {},
   "source": [
    "**8-2.** Favorite Book: Write a function called favorite_book() that accepts one parameter, title. The function should print a message, such as One of my favorite books is Alice in Wonderland. Call the function, making sure to include a book title as an argument in the function call."
   ]
  },
  {
   "cell_type": "code",
   "execution_count": 15,
   "id": "8bc8e7a4",
   "metadata": {},
   "outputs": [],
   "source": [
    "def favorite_book(book):\n",
    "    print(f\"One of my favorite books is {book.title()}\")\n",
    "    return None"
   ]
  },
  {
   "cell_type": "code",
   "execution_count": 16,
   "id": "b2b3ab62",
   "metadata": {},
   "outputs": [
    {
     "name": "stdout",
     "output_type": "stream",
     "text": [
      "One of my favorite books is The Little Prince\n"
     ]
    }
   ],
   "source": [
    "favorite_book(\"the little prince\")"
   ]
  },
  {
   "cell_type": "markdown",
   "id": "7a1272e1",
   "metadata": {},
   "source": [
    "**8-3.** T-Shirt: Write a function called make_shirt() that accepts a size and the text of a message that should be printed on the shirt. The function should print a sentence summarizing the size of the shirt and the message printed on it. Call the function once using positional arguments to make a shirt. Call the function a second time using keyword arguments.\n"
   ]
  },
  {
   "cell_type": "code",
   "execution_count": 23,
   "id": "01389331",
   "metadata": {},
   "outputs": [],
   "source": [
    "def make_shirt(size, message):\n",
    "    print(f\"The T-shirt is size {size}, and has the next message printed: '{message}'\")"
   ]
  },
  {
   "cell_type": "code",
   "execution_count": 27,
   "id": "c81d939f",
   "metadata": {},
   "outputs": [
    {
     "name": "stdout",
     "output_type": "stream",
     "text": [
      "The T-shirt is size L, and has the next message printed: 'Shh I'm coding'\n"
     ]
    }
   ],
   "source": [
    "make_shirt(\"L\", \"Shh I'm coding\")"
   ]
  },
  {
   "cell_type": "code",
   "execution_count": 25,
   "id": "22db293d",
   "metadata": {},
   "outputs": [
    {
     "name": "stdout",
     "output_type": "stream",
     "text": [
      "The T-shirt is size 40, and has the next message printed: 'Shh Im coding'\n"
     ]
    }
   ],
   "source": [
    "make_shirt(message = \"Shh Im coding\", size = 40)"
   ]
  },
  {
   "cell_type": "markdown",
   "id": "20fac0eb",
   "metadata": {},
   "source": [
    "**8-4.** Large Shirts: Modify the make_shirt() function so that shirts are large by default with a message that reads I love Python. Make a large shirt and a medium shirt with the default message, and a shirt of any size with a different message."
   ]
  },
  {
   "cell_type": "code",
   "execution_count": 28,
   "id": "ca5ae83d",
   "metadata": {},
   "outputs": [],
   "source": [
    "def make_shirt2(size = 'L', message = 'I love Python'):\n",
    "    print(f\"The T-shirt is size {size}, and has the next message printed: '{message}'\")"
   ]
  },
  {
   "cell_type": "code",
   "execution_count": 30,
   "id": "a67264cb",
   "metadata": {},
   "outputs": [
    {
     "name": "stdout",
     "output_type": "stream",
     "text": [
      "The T-shirt is size L, and has the next message printed: 'I love Python'\n",
      "The T-shirt is size M, and has the next message printed: 'I love Python'\n",
      "The T-shirt is size S, and has the next message printed: 'I have a bug in my code'\n"
     ]
    }
   ],
   "source": [
    "make_shirt2()\n",
    "make_shirt2(size='M')\n",
    "make_shirt2(size='S', message = \"I have a bug in my code\")"
   ]
  },
  {
   "cell_type": "markdown",
   "id": "b26ac7e1",
   "metadata": {},
   "source": [
    "**8-5.** Cities: Write a function called describe_city() that accepts the name of a city and its country. The function should print a simple sentence, such as Reykjavik is in Iceland. Give the parameter for the country a default value. Call your function for three different cities, at least one of which is not in the default country."
   ]
  },
  {
   "cell_type": "code",
   "execution_count": 36,
   "id": "372afa3b",
   "metadata": {},
   "outputs": [],
   "source": [
    "def describe_city(city, country = \"Argentina\"):\n",
    "    print(f\"{city.title()} is in {country.title()}\")"
   ]
  },
  {
   "cell_type": "code",
   "execution_count": 38,
   "id": "5c21c408",
   "metadata": {},
   "outputs": [
    {
     "name": "stdout",
     "output_type": "stream",
     "text": [
      "Rosario is in Argentina\n",
      "Mendoza is in Argentina\n",
      "New York is in United State Of America\n"
     ]
    }
   ],
   "source": [
    "describe_city(city = \"Rosario\")\n",
    "describe_city(city = \"Mendoza\")\n",
    "describe_city(city = \"New York\", country = \"United State of America\")"
   ]
  },
  {
   "cell_type": "markdown",
   "id": "fcc77445",
   "metadata": {},
   "source": [
    "**8-6.** City Names: Write a function called city_country() that takes in the name of a city and its country. The function should return a string formatted like this:\n",
    "\n",
    "****************************\n",
    "\"Santiago, Chile\"\n",
    "\n",
    "****************************\n",
    "\n",
    "Call your function with at least three city-country pairs, and print the values that are returned."
   ]
  },
  {
   "cell_type": "code",
   "execution_count": 39,
   "id": "c9748e50",
   "metadata": {},
   "outputs": [],
   "source": [
    "def city_country(city, country):\n",
    "    return city+\",\"+\" \"+country"
   ]
  },
  {
   "cell_type": "code",
   "execution_count": 41,
   "id": "12c9f63c",
   "metadata": {},
   "outputs": [
    {
     "name": "stdout",
     "output_type": "stream",
     "text": [
      "Rosario, Argentina\n"
     ]
    }
   ],
   "source": [
    "ej8_6 = city_country(\"Rosario\", \"Argentina\")\n",
    "print(ej8_6)"
   ]
  },
  {
   "cell_type": "markdown",
   "id": "e1123e47",
   "metadata": {},
   "source": [
    "**8-7.** Album: Write a function called make_album() that builds a dictionary describing a music album. The function should take in an artist name and an album title, and it should return a dictionary containing these two pieces of information. Use the function to make three dictionaries representing different albums. Print each return value to show that the dictionaries are storing the album information correctly.\n",
    "\n",
    "Use None to add an optional parameter to make_album() that allows you to store the number of songs on an album. If the calling line includes a value for the number of songs, add that value to the album’s dictionary. Make at least one new function call that includes the number of songs on an album."
   ]
  },
  {
   "cell_type": "code",
   "execution_count": 48,
   "id": "b58a62a0",
   "metadata": {},
   "outputs": [],
   "source": [
    "def make_album(artist, album, songs = None):\n",
    "    art = {\"artist\": artist, \"album\": album}\n",
    "    if songs:\n",
    "        art['n_songs'] = songs\n",
    "    return art"
   ]
  },
  {
   "cell_type": "code",
   "execution_count": 50,
   "id": "9aa5ec7a",
   "metadata": {},
   "outputs": [
    {
     "name": "stdout",
     "output_type": "stream",
     "text": [
      "{'artist': 'Charly Garcia', 'album': 'Clics Modernos'}\n",
      "{'artist': 'The Chainsmokers', 'album': 'Sick Boy'}\n",
      "{'artist': 'Capital Cities', 'album': 'In A Tidal Wave Of Mystery', 'n_songs': 16}\n"
     ]
    }
   ],
   "source": [
    "artist1 = make_album(\"Charly Garcia\", \"Clics Modernos\")\n",
    "artist2 = make_album(\"The Chainsmokers\", \"Sick Boy\")\n",
    "artist3 = make_album(\"Capital Cities\", \"In A Tidal Wave Of Mystery\", 16)\n",
    "print(artist1)\n",
    "print(artist2)\n",
    "print(artist3)"
   ]
  },
  {
   "cell_type": "markdown",
   "id": "f4ddc897",
   "metadata": {},
   "source": [
    "**8-8.** User Albums: Start with your program from Exercise 8-7. Write a while loop that allows users to enter an album’s artist and title. Once you have that information, call make_album() with the user’s input and print the dictionary that’s created. Be sure to include a quit value in the while loop."
   ]
  },
  {
   "cell_type": "code",
   "execution_count": 63,
   "id": "edb73861",
   "metadata": {},
   "outputs": [
    {
     "name": "stdout",
     "output_type": "stream",
     "text": [
      "Enter artist:\n",
      "Charly Garcia\n",
      "Enter album:\n",
      "Clics Modernos\n",
      "Would you like to enter the number of songs of the album? y/n\n",
      "n\n",
      "Would you like to enter another band? y/n\n",
      "y\n",
      "Enter artist:\n",
      "Capital Cities\n",
      "Enter album:\n",
      "In A Tidal Wave Of Mystery\n",
      "Would you like to enter the number of songs of the album? y/n\n",
      "y\n",
      "Enter the number of songs of the album:\n",
      "16\n",
      "Would you like to enter another band? y/n\n",
      "n\n"
     ]
    }
   ],
   "source": [
    "lista = []\n",
    "i = 0\n",
    "while True:\n",
    "    print(\"Enter artist:\")\n",
    "    band = input()\n",
    "    print(\"Enter album:\")\n",
    "    alb = input()\n",
    "    print(\"Would you like to enter the number of songs of the album? y/n\")\n",
    "    rta = input()\n",
    "    if (rta.upper() == \"Y\") or (rta.upper() == \"YES\"):\n",
    "        print(\"Enter the number of songs of the album:\")\n",
    "        songs = input()\n",
    "    else:\n",
    "        songs = None\n",
    "    lista.append(make_album(band, alb, songs))\n",
    "    print(\"Would you like to enter another band? y/n\")\n",
    "    rta1 = input()\n",
    "    if (rta1.upper() != \"Y\") and (rta1.upper() != \"YES\"):\n",
    "        break\n",
    "    i += 1"
   ]
  },
  {
   "cell_type": "code",
   "execution_count": 66,
   "id": "64ae9135",
   "metadata": {},
   "outputs": [
    {
     "name": "stdout",
     "output_type": "stream",
     "text": [
      "artist: Charly Garcia\n",
      "album: Clics Modernos\n",
      "\n",
      "artist: Capital Cities\n",
      "album: In A Tidal Wave Of Mystery\n",
      "n_songs: 16\n",
      "\n"
     ]
    }
   ],
   "source": [
    "for i in range(len(lista)):\n",
    "    for key, value in lista[i].items():\n",
    "        print(f\"{key}: {value}\")\n",
    "    print()"
   ]
  },
  {
   "cell_type": "markdown",
   "id": "7ca1a887",
   "metadata": {},
   "source": [
    "**8-9.** Messages: Make a list containing a series of short text messages. Pass the list to a function called show_messages(), which prints each text message."
   ]
  },
  {
   "cell_type": "code",
   "execution_count": 67,
   "id": "94c580b4",
   "metadata": {},
   "outputs": [],
   "source": [
    "def show_messages(msj):\n",
    "    for i in range(len(msj)):\n",
    "        print(msj[i])\n",
    "    return None"
   ]
  },
  {
   "cell_type": "code",
   "execution_count": 69,
   "id": "5b45113a",
   "metadata": {},
   "outputs": [
    {
     "name": "stdout",
     "output_type": "stream",
     "text": [
      "I love Python\n",
      "This code in neatly\n",
      "Keep calm and don't stop coding\n"
     ]
    }
   ],
   "source": [
    "messages = ['I love Python', 'This code in neatly', \"Keep calm and don't stop coding\"]\n",
    "show_messages(messages)"
   ]
  },
  {
   "cell_type": "markdown",
   "id": "fb8fa68b",
   "metadata": {},
   "source": [
    "**8-10.** Sending Messages: Start with a copy of your program from Exercise 8-9. Write a function called send_messages() that prints each text message and moves each message to a new list called sent_messages as it’s printed. After calling the function, print both of your lists to make sure the messages were moved correctly.\n"
   ]
  },
  {
   "cell_type": "code",
   "execution_count": 73,
   "id": "e47025f3",
   "metadata": {},
   "outputs": [],
   "source": [
    "def show_messages(msj):\n",
    "    sent_messages = []\n",
    "    for i in range(len(msj)):\n",
    "        print(msj[i])\n",
    "        sent_messages.append(msj[i])\n",
    "    return sent_messages"
   ]
  },
  {
   "cell_type": "code",
   "execution_count": 75,
   "id": "ddd5a370",
   "metadata": {},
   "outputs": [
    {
     "name": "stdout",
     "output_type": "stream",
     "text": [
      "I love Python\n",
      "This code in neatly\n",
      "Keep calm and don't stop coding\n"
     ]
    }
   ],
   "source": [
    "messages_sent = show_messages(messages)"
   ]
  },
  {
   "cell_type": "markdown",
   "id": "29f8a0bb",
   "metadata": {},
   "source": [
    "**8-11.** Archived Messages: Start with your work from Exercise 8-10. Call the function send_messages() with a copy of the list of messages. After calling the function, print both of your lists to show that the original list has retained its messages."
   ]
  },
  {
   "cell_type": "code",
   "execution_count": 76,
   "id": "ee12b2a7",
   "metadata": {},
   "outputs": [
    {
     "name": "stdout",
     "output_type": "stream",
     "text": [
      "I love Python\n",
      "This code in neatly\n",
      "Keep calm and don't stop coding\n"
     ]
    }
   ],
   "source": [
    "for i in range(len(messages_sent)):\n",
    "    print(messages_sent[i])"
   ]
  },
  {
   "cell_type": "markdown",
   "id": "493386ed",
   "metadata": {},
   "source": [
    "**8-12.** Sandwiches: Write a function that accepts a list of items a person wants on a sandwich. The function should have one parameter that collects as many items as the function call provides, and it should print a summary of the sandwich that’s being ordered. Call the function three times, using a different number of arguments each time."
   ]
  },
  {
   "cell_type": "code",
   "execution_count": 79,
   "id": "1d2d341c",
   "metadata": {},
   "outputs": [],
   "source": [
    "def sandwich(*toppings):\n",
    "    print(\"The sandwich has the followings toppings:\")\n",
    "    for topping in toppings:\n",
    "        print(f\"- {topping.title()}\")\n",
    "    return None"
   ]
  },
  {
   "cell_type": "code",
   "execution_count": 80,
   "id": "1b89e426",
   "metadata": {},
   "outputs": [
    {
     "name": "stdout",
     "output_type": "stream",
     "text": [
      "The sandwich has the followings toppings:\n",
      "- jam\n",
      "- mayonesa\n",
      "- cheese\n",
      "- ketchup\n"
     ]
    }
   ],
   "source": [
    "sandwich(\"jam\", \"mayonesa\", \"cheese\", \"ketchup\")"
   ]
  },
  {
   "cell_type": "code",
   "execution_count": 81,
   "id": "d6068b72",
   "metadata": {},
   "outputs": [
    {
     "name": "stdout",
     "output_type": "stream",
     "text": [
      "The sandwich has the followings toppings:\n",
      "- meat\n",
      "- cheddar\n",
      "- bacon\n"
     ]
    }
   ],
   "source": [
    "sandwich(\"meat\", \"cheddar\", \"bacon\")"
   ]
  },
  {
   "cell_type": "code",
   "execution_count": 82,
   "id": "7c21abf9",
   "metadata": {},
   "outputs": [
    {
     "name": "stdout",
     "output_type": "stream",
     "text": [
      "The sandwich has the followings toppings:\n",
      "- meat\n",
      "- jam\n",
      "- bacon\n",
      "- cheddar\n",
      "- mushrooms\n",
      "- extra cheese\n"
     ]
    }
   ],
   "source": [
    "sandwich(\"meat\", \"jam\", \"bacon\", \"cheddar\", \"mushrooms\", \"extra cheese\")"
   ]
  },
  {
   "cell_type": "markdown",
   "id": "b8c20ff0",
   "metadata": {},
   "source": [
    "**8-13.** User Profile: Start with a copy of user_profile.py from page 149. Build a profile of yourself by calling build_profile(), using your first and last names and three other key-value pairs that describe you."
   ]
  },
  {
   "cell_type": "code",
   "execution_count": null,
   "id": "7571ca95",
   "metadata": {},
   "outputs": [],
   "source": [
    "def build_profile(first, last, **user_info):\n",
    "    \"\"\"Build a dictionary containing everything we know about a user.\"\"\"\n",
    "    user_info['first_name'] = first\n",
    "    user_info['last_name'] = last\n",
    "    return user_info"
   ]
  },
  {
   "cell_type": "code",
   "execution_count": null,
   "id": "ae34799a",
   "metadata": {},
   "outputs": [],
   "source": []
  },
  {
   "cell_type": "markdown",
   "id": "7cecd36a",
   "metadata": {},
   "source": [
    "**8-14.** Cars: Write a function that stores information about a car in a dictionary. The function should always receive a manufacturer and a model name. It should then accept an arbitrary number of keyword arguments. Call the function with the required information and two other name-value pairs, such as a color or an optional feature. Your function should work for a call like this one:\n",
    "*************\n",
    "car = make_car('subaru', 'outback', color='blue', tow_package=True)\n",
    "*************\n",
    "Print the dictionary that’s returned to make sure all the information was stored correctly."
   ]
  },
  {
   "cell_type": "code",
   "execution_count": null,
   "id": "fa7e0818",
   "metadata": {},
   "outputs": [],
   "source": []
  },
  {
   "cell_type": "markdown",
   "id": "ac0ae89d",
   "metadata": {},
   "source": [
    "**8-15.** Printing Models: Put the functions for the example printing_models.py in a separate file called printing_functions.py. Write an import statement at the top of printing_models.py, and modify the file to use the imported functions."
   ]
  },
  {
   "cell_type": "code",
   "execution_count": null,
   "id": "d7652d8f",
   "metadata": {},
   "outputs": [],
   "source": []
  },
  {
   "cell_type": "code",
   "execution_count": null,
   "id": "f634fa85",
   "metadata": {},
   "outputs": [],
   "source": []
  }
 ],
 "metadata": {
  "kernelspec": {
   "display_name": "Python 3",
   "language": "python",
   "name": "python3"
  },
  "language_info": {
   "codemirror_mode": {
    "name": "ipython",
    "version": 3
   },
   "file_extension": ".py",
   "mimetype": "text/x-python",
   "name": "python",
   "nbconvert_exporter": "python",
   "pygments_lexer": "ipython3",
   "version": "3.8.8"
  }
 },
 "nbformat": 4,
 "nbformat_minor": 5
}
