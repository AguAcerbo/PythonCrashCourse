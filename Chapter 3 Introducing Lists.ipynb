{
 "cells": [
  {
   "cell_type": "markdown",
   "id": "9b8cfea5",
   "metadata": {},
   "source": [
    "# Chapter 3: Introducing Lists\n",
    "<p style='text-align: justify;'>\n",
    "In this chapter and the next you’ll learn what lists are and how to start working with the elements in a list. Lists allow you to store sets of information in one place, whether you have just a few items or millions of items. Lists are one of Python’s most powerful features readily accessible to new programmers, and they tie together many important concepts in programming.\n",
    "<p>"
   ]
  },
  {
   "cell_type": "code",
   "execution_count": 1,
   "id": "a3236962",
   "metadata": {},
   "outputs": [],
   "source": [
    "from random import randint"
   ]
  },
  {
   "cell_type": "markdown",
   "id": "68680886",
   "metadata": {},
   "source": [
    "**3-1.** Names: Store the names of a few of your friends in a list called names. Print each person’s name by accessing each element in the list, one at a time."
   ]
  },
  {
   "cell_type": "code",
   "execution_count": 2,
   "id": "599a3a75",
   "metadata": {
    "scrolled": true
   },
   "outputs": [
    {
     "name": "stdout",
     "output_type": "stream",
     "text": [
      "Matias\n",
      "Esteban\n",
      "Ignacio\n",
      "Natalia\n",
      "Guadalupe\n"
     ]
    }
   ],
   "source": [
    "nombres = [\"Matias\", \"Esteban\", \"Ignacio\", \"Natalia\", \"Guadalupe\"]\n",
    "for nombre in nombres:\n",
    "    print(nombre)"
   ]
  },
  {
   "cell_type": "code",
   "execution_count": 3,
   "id": "fffdd1b1",
   "metadata": {},
   "outputs": [
    {
     "name": "stdout",
     "output_type": "stream",
     "text": [
      "Matias\n",
      "Esteban\n",
      "Ignacio\n",
      "Natalia\n",
      "Guadalupe\n"
     ]
    }
   ],
   "source": [
    "for i in range(len(nombres)):\n",
    "    print(nombres[i])"
   ]
  },
  {
   "cell_type": "markdown",
   "id": "f301d764",
   "metadata": {},
   "source": [
    "**3-2.** Greetings: Start with the list you used in Exercise 3-1, but instead of just printing each person’s name, print a message to them. The text of each mes\u0002sage should be the same, but each message should be personalized with the person’s name."
   ]
  },
  {
   "cell_type": "code",
   "execution_count": 4,
   "id": "c2407369",
   "metadata": {},
   "outputs": [
    {
     "name": "stdout",
     "output_type": "stream",
     "text": [
      "Hola Matias\n",
      "Greetings Esteban\n",
      "Hi Ignacio\n",
      "Hello Natalia\n",
      "Guten tag Guadalupe\n"
     ]
    }
   ],
   "source": [
    "print(f\"Hola {nombres[0]}\")\n",
    "print(f\"Greetings {nombres[1]}\")\n",
    "print(f\"Hi {nombres[2]}\")\n",
    "print(f\"Hello {nombres[3]}\")\n",
    "print(f\"Guten tag {nombres[4]}\")"
   ]
  },
  {
   "cell_type": "markdown",
   "id": "0355b66a",
   "metadata": {},
   "source": [
    "**3-3.** Your Own List: Think of your favorite mode of transportation, such as a motorcycle or a car, and make a list that stores several examples. Use your list to print a series of statements about these items, such as “I would like to own a Honda motorcycle.”"
   ]
  },
  {
   "cell_type": "code",
   "execution_count": 5,
   "id": "3f97a8cb",
   "metadata": {},
   "outputs": [
    {
     "name": "stdout",
     "output_type": "stream",
     "text": [
      "I would like to own a BMW motorcycle\n",
      "I would like to own a Honda motorcycle\n",
      "I would like to own a Yamaha motorcycle\n",
      "I would like to own a Mercedez Benz car\n",
      "I would like to own a BMW car\n",
      "I would like to own a Audi car\n",
      "I would like to own a Volvo car\n"
     ]
    }
   ],
   "source": [
    "motorcycle_brands = [\"BMW\", \"Honda\", \"Yamaha\"]\n",
    "car_brands = [\"Mercedez Benz\", \"BMW\", \"Audi\", \"Volvo\"]\n",
    "\n",
    "for m_brand in motorcycle_brands:\n",
    "    print(f\"I would like to own a {m_brand} motorcycle\")\n",
    "\n",
    "for c_brand in car_brands:\n",
    "    print(f\"I would like to own a {c_brand} car\")    "
   ]
  },
  {
   "cell_type": "markdown",
   "id": "ad34e97c",
   "metadata": {},
   "source": [
    "**3-4.** Guest List: If you could invite anyone, living or deceased, to dinner, who would you invite? Make a list that includes at least three people you’d like to invite to dinner. Then use your list to print a message to each person, inviting them to dinner."
   ]
  },
  {
   "cell_type": "code",
   "execution_count": 6,
   "id": "043bf0c5",
   "metadata": {},
   "outputs": [
    {
     "name": "stdout",
     "output_type": "stream",
     "text": [
      "Estimado Pedro,\n",
      "\tMe acerco a traves de este mensaje para invitarlo a cenar el dia 10/1/21 a las 20 hs.\n",
      "\tEl listado de invitado es el siguiente:\n",
      "\t\t Pedro\n",
      "\t\t Juan\n",
      "\t\t Maria\n",
      "\tPor favor confirmar asistencia.\n",
      "\tSaludos cordiales,\n",
      "\tAgustín Acerbo\n",
      "\n",
      "Estimado Juan,\n",
      "\tMe acerco a traves de este mensaje para invitarlo a cenar el dia 10/1/21 a las 20 hs.\n",
      "\tEl listado de invitado es el siguiente:\n",
      "\t\t Pedro\n",
      "\t\t Juan\n",
      "\t\t Maria\n",
      "\tPor favor confirmar asistencia.\n",
      "\tSaludos cordiales,\n",
      "\tAgustín Acerbo\n",
      "\n",
      "Estimado Maria,\n",
      "\tMe acerco a traves de este mensaje para invitarlo a cenar el dia 10/1/21 a las 20 hs.\n",
      "\tEl listado de invitado es el siguiente:\n",
      "\t\t Pedro\n",
      "\t\t Juan\n",
      "\t\t Maria\n",
      "\tPor favor confirmar asistencia.\n",
      "\tSaludos cordiales,\n",
      "\tAgustín Acerbo\n",
      "\n"
     ]
    }
   ],
   "source": [
    "# Lista de invitados\n",
    "invitados = [\"Pedro\", \"Juan\", \"Maria\"]\n",
    "mi_nombre = \"agustín acerbo\"\n",
    "\n",
    "i = 0\n",
    "while i < len(invitados):\n",
    "    print(f\"Estimado {invitados[i]},\"\n",
    "          f\"\\n\\tMe acerco a traves de este mensaje para invitarlo a cenar el dia 10/1/21 a las 20 hs.\"\n",
    "          f\"\\n\\tEl listado de invitado es el siguiente:\")\n",
    "    for j in invitados:\n",
    "        print(\"\\t\\t\", j)\n",
    "\n",
    "    print(f\"\\tPor favor confirmar asistencia.\"\n",
    "          f\"\\n\\tSaludos cordiales,\"\n",
    "          f\"\\n\\t{mi_nombre.title()}\\n\")\n",
    "    i += 1"
   ]
  },
  {
   "cell_type": "markdown",
   "id": "3b4335af",
   "metadata": {},
   "source": [
    "**3-5.** Changing Guest List: You just heard that one of your guests can’t make the dinner, so you need to send out a new set of invitations. You’ll have to think of someone else to invite.\n",
    "- Start with your program from Exercise 3-4. Add a print() call at the end of your program stating the name of the guest who can’t make it.\n",
    "- Modify your list, replacing the name of the guest who can’t make it with the name of the new person you are inviting.\n",
    "- Print a second set of invitation messages, one for each person who is still in your list."
   ]
  },
  {
   "cell_type": "code",
   "execution_count": 7,
   "id": "07d8e3de",
   "metadata": {},
   "outputs": [
    {
     "name": "stdout",
     "output_type": "stream",
     "text": [
      "\n",
      "El invitado Pedro no vendra a la cena.\n",
      "\n",
      "Estimado Sara,\n",
      "\tMe acerco a traves de este mensaje para invitarlo a cenar el dia 10/1/21 a las 20 hs.\n",
      "\tEl listado de invitado es el siguiente:\n",
      "\t\t Sara\n",
      "\t\t Juan\n",
      "\t\t Maria\n",
      "\tPor favor confirmar asistencia.\n",
      "\tSaludos cordiales,\n",
      "\tAgustín Acerbo\n",
      "\n",
      "Estimado Juan,\n",
      "\tMe acerco a traves de este mensaje para invitarlo a cenar el dia 10/1/21 a las 20 hs.\n",
      "\tEl listado de invitado es el siguiente:\n",
      "\t\t Sara\n",
      "\t\t Juan\n",
      "\t\t Maria\n",
      "\tPor favor confirmar asistencia.\n",
      "\tSaludos cordiales,\n",
      "\tAgustín Acerbo\n",
      "\n",
      "Estimado Maria,\n",
      "\tMe acerco a traves de este mensaje para invitarlo a cenar el dia 10/1/21 a las 20 hs.\n",
      "\tEl listado de invitado es el siguiente:\n",
      "\t\t Sara\n",
      "\t\t Juan\n",
      "\t\t Maria\n",
      "\tPor favor confirmar asistencia.\n",
      "\tSaludos cordiales,\n",
      "\tAgustín Acerbo\n"
     ]
    }
   ],
   "source": [
    "ausente = randint(0, len(invitados)-1)\n",
    "\n",
    "print(f\"\\nEl invitado {invitados[ausente]} no vendra a la cena.\")\n",
    "\n",
    "del invitados[ausente]\n",
    "nuevo_invitado = \"Sara\"\n",
    "\n",
    "invitados.insert(0, nuevo_invitado)\n",
    "\n",
    "i = 0\n",
    "while i < len(invitados):\n",
    "    print(f\"\\nEstimado {invitados[i]},\"\n",
    "          f\"\\n\\tMe acerco a traves de este mensaje para invitarlo a cenar el dia 10/1/21 a las 20 hs.\"\n",
    "          f\"\\n\\tEl listado de invitado es el siguiente:\")\n",
    "    for j in invitados:\n",
    "        print(\"\\t\\t\", j)\n",
    "\n",
    "    print(f\"\\tPor favor confirmar asistencia.\"\n",
    "          f\"\\n\\tSaludos cordiales,\"\n",
    "          f\"\\n\\t{mi_nombre.title()}\")\n",
    "    i += 1\n"
   ]
  },
  {
   "cell_type": "markdown",
   "id": "0b454e24",
   "metadata": {},
   "source": [
    "**3-6.** More Guests: You just found a bigger dinner table, so now more space is available. Think of three more guests to invite to dinner.\n",
    "- Use insert() to add one new guest to the beginning of your list.\n",
    "- Use insert() to add one new guest to the middle of your list.\n",
    "- Use append() to add one new guest to the end of your list.\n",
    "- Print a new set of invitation messages, one for each person in your list."
   ]
  },
  {
   "cell_type": "code",
   "execution_count": 8,
   "id": "47d6e09d",
   "metadata": {},
   "outputs": [
    {
     "name": "stdout",
     "output_type": "stream",
     "text": [
      "\n",
      "Se agregan 3 invitados más:\n",
      "\t\t Santiago\n",
      "\t\t Sara\n",
      "\t\t Lola\n",
      "\t\t Juan\n",
      "\t\t Maria\n",
      "\t\t Sofia\n",
      "\n",
      "Estimado Santiago,\n",
      "\tMe acerco a traves de este mensaje para invitarlo a cenar el dia 10/1/21 a las 20 hs.\n",
      "\tEl listado de invitados es el siguiente:\n",
      "\t\t Santiago\n",
      "\t\t Sara\n",
      "\t\t Lola\n",
      "\t\t Juan\n",
      "\t\t Maria\n",
      "\t\t Sofia\n",
      "\tPor favor confirmar asistencia.\n",
      "\tSaludos cordiales,\n",
      "\tAgustín Acerbo\n",
      "\n",
      "Estimado Sara,\n",
      "\tMe acerco a traves de este mensaje para invitarlo a cenar el dia 10/1/21 a las 20 hs.\n",
      "\tEl listado de invitados es el siguiente:\n",
      "\t\t Santiago\n",
      "\t\t Sara\n",
      "\t\t Lola\n",
      "\t\t Juan\n",
      "\t\t Maria\n",
      "\t\t Sofia\n",
      "\tPor favor confirmar asistencia.\n",
      "\tSaludos cordiales,\n",
      "\tAgustín Acerbo\n",
      "\n",
      "Estimado Lola,\n",
      "\tMe acerco a traves de este mensaje para invitarlo a cenar el dia 10/1/21 a las 20 hs.\n",
      "\tEl listado de invitados es el siguiente:\n",
      "\t\t Santiago\n",
      "\t\t Sara\n",
      "\t\t Lola\n",
      "\t\t Juan\n",
      "\t\t Maria\n",
      "\t\t Sofia\n",
      "\tPor favor confirmar asistencia.\n",
      "\tSaludos cordiales,\n",
      "\tAgustín Acerbo\n",
      "\n",
      "Estimado Juan,\n",
      "\tMe acerco a traves de este mensaje para invitarlo a cenar el dia 10/1/21 a las 20 hs.\n",
      "\tEl listado de invitados es el siguiente:\n",
      "\t\t Santiago\n",
      "\t\t Sara\n",
      "\t\t Lola\n",
      "\t\t Juan\n",
      "\t\t Maria\n",
      "\t\t Sofia\n",
      "\tPor favor confirmar asistencia.\n",
      "\tSaludos cordiales,\n",
      "\tAgustín Acerbo\n",
      "\n",
      "Estimado Maria,\n",
      "\tMe acerco a traves de este mensaje para invitarlo a cenar el dia 10/1/21 a las 20 hs.\n",
      "\tEl listado de invitados es el siguiente:\n",
      "\t\t Santiago\n",
      "\t\t Sara\n",
      "\t\t Lola\n",
      "\t\t Juan\n",
      "\t\t Maria\n",
      "\t\t Sofia\n",
      "\tPor favor confirmar asistencia.\n",
      "\tSaludos cordiales,\n",
      "\tAgustín Acerbo\n",
      "\n",
      "Estimado Sofia,\n",
      "\tMe acerco a traves de este mensaje para invitarlo a cenar el dia 10/1/21 a las 20 hs.\n",
      "\tEl listado de invitados es el siguiente:\n",
      "\t\t Santiago\n",
      "\t\t Sara\n",
      "\t\t Lola\n",
      "\t\t Juan\n",
      "\t\t Maria\n",
      "\t\t Sofia\n",
      "\tPor favor confirmar asistencia.\n",
      "\tSaludos cordiales,\n",
      "\tAgustín Acerbo\n"
     ]
    }
   ],
   "source": [
    "print(\"\\nSe agregan 3 invitados más:\")\n",
    "invitados.insert(0, \"Santiago\")\n",
    "invitados.insert(len(invitados)//2, \"Lola\")\n",
    "invitados.insert(len(invitados), \"Sofia\")\n",
    "for j in invitados:\n",
    "    print(\"\\t\\t\", j)\n",
    "\n",
    "i = 0\n",
    "while i < len(invitados):\n",
    "    print(f\"\\nEstimado {invitados[i]},\"\n",
    "          f\"\\n\\tMe acerco a traves de este mensaje para invitarlo a cenar el dia 10/1/21 a las 20 hs.\"\n",
    "          f\"\\n\\tEl listado de invitados es el siguiente:\")\n",
    "    for j in invitados:\n",
    "        print(\"\\t\\t\", j)\n",
    "\n",
    "    print(f\"\\tPor favor confirmar asistencia.\"\n",
    "          f\"\\n\\tSaludos cordiales,\"\n",
    "          f\"\\n\\t{mi_nombre.title()}\")\n",
    "    i += 1"
   ]
  },
  {
   "cell_type": "markdown",
   "id": "a367abce",
   "metadata": {},
   "source": [
    "**3-7.** Shrinking Guest List: You just found out that your new dinner table won’t arrive in time for the dinner, and you have space for only two guests.\n",
    "- Start with your program from Exercise 3-6. Add a new line that prints a message saying that you can invite only two people for dinner.\n",
    "- Use pop() to remove guests from your list one at a time until only two names remain in your list. Each time you pop a name from your list, print a message to that person letting them know you’re sorry you can’t invite them to dinner.\n",
    "- Print a message to each of the two people still on your list, letting them know they’re still invited.\n",
    "- Use del to remove the last two names from your list, so you have an empty list. Print your list to make sure you actually have an empty list at the end of your program"
   ]
  },
  {
   "cell_type": "code",
   "execution_count": 9,
   "id": "8a27a86d",
   "metadata": {},
   "outputs": [
    {
     "name": "stdout",
     "output_type": "stream",
     "text": [
      "\n",
      "Estimado Maria,\n",
      "\tLamento informate que debo debo desestimar la invitacion que le envio.\n",
      "\tPerdon por las molestias ocacionadas\n",
      "\tSaludos cordiales,\n",
      "\tAgustín Acerbo\n",
      "\n",
      "Estimado Sofia,\n",
      "\tLamento informate que debo debo desestimar la invitacion que le envio.\n",
      "\tPerdon por las molestias ocacionadas\n",
      "\tSaludos cordiales,\n",
      "\tAgustín Acerbo\n",
      "\n",
      "Estimado Juan,\n",
      "\tLamento informate que debo debo desestimar la invitacion que le envio.\n",
      "\tPerdon por las molestias ocacionadas\n",
      "\tSaludos cordiales,\n",
      "\tAgustín Acerbo\n",
      "\n",
      "Estimado Lola,\n",
      "\tLamento informate que debo debo desestimar la invitacion que le envio.\n",
      "\tPerdon por las molestias ocacionadas\n",
      "\tSaludos cordiales,\n",
      "\tAgustín Acerbo\n",
      "\n",
      "Estimado Santiago,\n",
      "\tUsted sigue en la lista de invitado.\n",
      "\tEl listado de invitados es el siguiente:\n",
      "\t\t Santiago\n",
      "\t\t Sara\n",
      "\tPor favor confirmar asistencia.\n",
      "\tSaludos cordiales,\n",
      "\tAgustín Acerbo\n",
      "\n",
      "Estimado Sara,\n",
      "\tUsted sigue en la lista de invitado.\n",
      "\tEl listado de invitados es el siguiente:\n",
      "\t\t Santiago\n",
      "\t\t Sara\n",
      "\tPor favor confirmar asistencia.\n",
      "\tSaludos cordiales,\n",
      "\tAgustín Acerbo\n"
     ]
    }
   ],
   "source": [
    "desinvitaciones = []\n",
    "\n",
    "i = 1\n",
    "k = 0\n",
    "while i == 1:\n",
    "    aux = randint(0, len(invitados)-1)\n",
    "    desinvitaciones.insert(k, invitados.pop(aux))\n",
    "    print(f\"\\nEstimado {desinvitaciones[k]},\"\n",
    "          f\"\\n\\tLamento informate que debo debo desestimar la invitacion que le envio.\"\n",
    "          f\"\\n\\tPerdon por las molestias ocacionadas\"\n",
    "          f\"\\n\\tSaludos cordiales,\"\n",
    "          f\"\\n\\t{mi_nombre.title()}\")\n",
    "    k += 1\n",
    "    if len(invitados) == 2:\n",
    "        i = 0\n",
    "\n",
    "i = 0\n",
    "while i < len(invitados):\n",
    "    print(f\"\\nEstimado {invitados[i]},\"\n",
    "          f\"\\n\\tUsted sigue en la lista de invitado.\"\n",
    "          f\"\\n\\tEl listado de invitados es el siguiente:\")\n",
    "    for j in invitados:\n",
    "        print(\"\\t\\t\", j)\n",
    "\n",
    "    print(f\"\\tPor favor confirmar asistencia.\"\n",
    "          f\"\\n\\tSaludos cordiales,\"\n",
    "          f\"\\n\\t{mi_nombre.title()}\")\n",
    "    i += 1"
   ]
  },
  {
   "cell_type": "markdown",
   "id": "73653a55",
   "metadata": {},
   "source": [
    "**3-8.** Seeing the World: Think of at least five places in the world you’d like to visit."
   ]
  },
  {
   "cell_type": "markdown",
   "id": "ff4d4c98",
   "metadata": {},
   "source": [
    "- Store the locations in a list. Make sure the list is not in alphabetical order."
   ]
  },
  {
   "cell_type": "code",
   "execution_count": 10,
   "id": "68e38b22",
   "metadata": {},
   "outputs": [],
   "source": [
    "locations = [\"Munich\", \"Dublin\", \"Edimbrugh\", \"Firenze\", \"Paris\"]\n",
    "destinos = [\"Roma\", \"Venezia\", \"Amsterdam\", \"Londres\", \"Edimburgo\", \"Dublin\"]"
   ]
  },
  {
   "cell_type": "markdown",
   "id": "6e8cd707",
   "metadata": {},
   "source": [
    "- Print your list in its original order. Don’t worry about printing the list neatly, just print it as a raw Python list."
   ]
  },
  {
   "cell_type": "code",
   "execution_count": 11,
   "id": "2fa1ad15",
   "metadata": {},
   "outputs": [
    {
     "name": "stdout",
     "output_type": "stream",
     "text": [
      "['Munich', 'Dublin', 'Edimbrugh', 'Firenze', 'Paris']\n",
      "\n",
      "Se muestra listado de destino:\n",
      "\t ['Roma', 'Venezia', 'Amsterdam', 'Londres', 'Edimburgo', 'Dublin']\n"
     ]
    }
   ],
   "source": [
    "print(locations)\n",
    "print(\"\\nSe muestra listado de destino:\\n\\t\", destinos)"
   ]
  },
  {
   "cell_type": "markdown",
   "id": "2fc34517",
   "metadata": {},
   "source": [
    "- Use sorted() to print your list in alphabetical order without modifying the actual list."
   ]
  },
  {
   "cell_type": "code",
   "execution_count": 12,
   "id": "40d0b5ac",
   "metadata": {},
   "outputs": [
    {
     "name": "stdout",
     "output_type": "stream",
     "text": [
      "['Dublin', 'Edimbrugh', 'Firenze', 'Munich', 'Paris']\n",
      "Se utiliza la funcion sorted() para ordenar la lista de destinos:\n",
      "\t ['Amsterdam', 'Dublin', 'Edimburgo', 'Londres', 'Roma', 'Venezia']\n"
     ]
    }
   ],
   "source": [
    "print(sorted(locations))\n",
    "print(\"Se utiliza la funcion sorted() para ordenar la lista de destinos:\\n\\t\", sorted(destinos))"
   ]
  },
  {
   "cell_type": "markdown",
   "id": "d0c77ea1",
   "metadata": {},
   "source": [
    "- Show that your list is still in its original order by printing it."
   ]
  },
  {
   "cell_type": "code",
   "execution_count": 13,
   "id": "cfd2fe56",
   "metadata": {},
   "outputs": [
    {
     "name": "stdout",
     "output_type": "stream",
     "text": [
      "['Munich', 'Dublin', 'Edimbrugh', 'Firenze', 'Paris']\n",
      "Se verifica que el listado destinos no fue modificado\n",
      "\t ['Roma', 'Venezia', 'Amsterdam', 'Londres', 'Edimburgo', 'Dublin']\n"
     ]
    }
   ],
   "source": [
    "print(locations)\n",
    "print(\"Se verifica que el listado destinos no fue modificado\\n\\t\", destinos)"
   ]
  },
  {
   "cell_type": "markdown",
   "id": "4d3db3a5",
   "metadata": {},
   "source": [
    "- Use sorted() to print your list in reverse alphabetical order without changing the order of the original list."
   ]
  },
  {
   "cell_type": "code",
   "execution_count": 14,
   "id": "539a523b",
   "metadata": {},
   "outputs": [
    {
     "name": "stdout",
     "output_type": "stream",
     "text": [
      "['Paris', 'Munich', 'Firenze', 'Edimbrugh', 'Dublin']\n",
      "Se utiliza la funcion sorted() para ordenar la lista de destinos:\n",
      "\t ['Amsterdam', 'Dublin', 'Edimburgo', 'Londres', 'Roma', 'Venezia']\n"
     ]
    }
   ],
   "source": [
    "print(sorted(locations)[::-1])\n",
    "print(\"Se utiliza la funcion sorted() para ordenar la lista de destinos:\\n\\t\", sorted(sorted(destinos)))"
   ]
  },
  {
   "cell_type": "markdown",
   "id": "baf7df84",
   "metadata": {},
   "source": [
    "- Show that your list is still in its original order by printing it again.\n"
   ]
  },
  {
   "cell_type": "code",
   "execution_count": 15,
   "id": "2fc705f2",
   "metadata": {},
   "outputs": [
    {
     "name": "stdout",
     "output_type": "stream",
     "text": [
      "['Munich', 'Dublin', 'Edimbrugh', 'Firenze', 'Paris']\n",
      "Se verifica que el listado destinos no fue modificado\n",
      "\t ['Roma', 'Venezia', 'Amsterdam', 'Londres', 'Edimburgo', 'Dublin']\n"
     ]
    }
   ],
   "source": [
    "print(locations)\n",
    "print(\"Se verifica que el listado destinos no fue modificado\\n\\t\", destinos)"
   ]
  },
  {
   "cell_type": "markdown",
   "id": "8defa447",
   "metadata": {},
   "source": [
    "- Use reverse() to change the order of your list. Print the list to show that its order has changed.\n"
   ]
  },
  {
   "cell_type": "code",
   "execution_count": 16,
   "id": "e828c099",
   "metadata": {},
   "outputs": [
    {
     "name": "stdout",
     "output_type": "stream",
     "text": [
      "['Paris', 'Firenze', 'Edimbrugh', 'Dublin', 'Munich']\n",
      "Se utiliza el metodo .reverse() para modificar el orden de la lista de destinos, la lista original se ve modificada:\n",
      "\t ['Dublin', 'Edimburgo', 'Londres', 'Amsterdam', 'Venezia', 'Roma']\n"
     ]
    }
   ],
   "source": [
    "locations.reverse()\n",
    "print(locations)\n",
    "destinos.reverse()\n",
    "print(\"Se utiliza el metodo .reverse() para modificar el orden de la \"\n",
    "      \"lista de destinos, la lista original se ve modificada:\\n\\t\", destinos)"
   ]
  },
  {
   "cell_type": "markdown",
   "id": "1f5d40a6",
   "metadata": {},
   "source": [
    "- Use reverse() to change the order of your list again. Print the list to show it’s back to its original order.\n"
   ]
  },
  {
   "cell_type": "code",
   "execution_count": 17,
   "id": "437b824b",
   "metadata": {},
   "outputs": [
    {
     "name": "stdout",
     "output_type": "stream",
     "text": [
      "['Munich', 'Dublin', 'Edimbrugh', 'Firenze', 'Paris']\n",
      "Se utiliza el metodo .reverse() nuevamente para dejar la lista en su orden original\n",
      "\t ['Roma', 'Venezia', 'Amsterdam', 'Londres', 'Edimburgo', 'Dublin']\n"
     ]
    }
   ],
   "source": [
    "locations.reverse()\n",
    "print(locations)\n",
    "destinos.reverse()\n",
    "print(\"Se utiliza el metodo .reverse() nuevamente para dejar la lista en su orden original\\n\\t\", destinos)"
   ]
  },
  {
   "cell_type": "markdown",
   "id": "77af9ad8",
   "metadata": {},
   "source": [
    "- Use sort() to change your list so it’s stored in alphabetical order. Print the list to show that its order has been changed.\n"
   ]
  },
  {
   "cell_type": "code",
   "execution_count": 18,
   "id": "81beacd9",
   "metadata": {},
   "outputs": [
    {
     "name": "stdout",
     "output_type": "stream",
     "text": [
      "['Dublin', 'Edimbrugh', 'Firenze', 'Munich', 'Paris']\n",
      "Se utiliza el metodo .sort() para ordenar la lista de manera alfabetica, la lista se ve modificada:\n",
      "\t ['Amsterdam', 'Dublin', 'Edimburgo', 'Londres', 'Roma', 'Venezia']\n"
     ]
    }
   ],
   "source": [
    "locations.sort()\n",
    "print(locations)\n",
    "destinos.sort()\n",
    "print(\"Se utiliza el metodo .sort() para ordenar la lista de manera alfabetica, \"\n",
    "      \"la lista se ve modificada:\\n\\t\", destinos)"
   ]
  },
  {
   "cell_type": "markdown",
   "id": "e2fa1ce7",
   "metadata": {},
   "source": [
    "- Use sort() to change your list so it’s stored in reverse alphabetical order. Print the list to show that its order has changed."
   ]
  },
  {
   "cell_type": "code",
   "execution_count": 19,
   "id": "f03d7ba6",
   "metadata": {},
   "outputs": [
    {
     "name": "stdout",
     "output_type": "stream",
     "text": [
      "['Paris', 'Munich', 'Firenze', 'Edimbrugh', 'Dublin']\n",
      "Se utiliza el metodo .sort(reverse=True) para ordenar la lista de manera alfabetica inversa, la lista se ve modificada:\n",
      "\t ['Venezia', 'Roma', 'Londres', 'Edimburgo', 'Dublin', 'Amsterdam']\n"
     ]
    }
   ],
   "source": [
    "locations.sort(reverse=True)\n",
    "print(locations)\n",
    "destinos.sort(reverse=True)\n",
    "print(\"Se utiliza el metodo .sort(reverse=True) para ordenar la lista de manera alfabetica inversa, \"\n",
    "      \"la lista se ve modificada:\\n\\t\", destinos)"
   ]
  },
  {
   "cell_type": "markdown",
   "id": "c28370bb",
   "metadata": {},
   "source": [
    "**3-9.** Dinner Guests: Working with one of the programs from Exercises 3-4 through 3-7 (page 42), use len() to print a message indicating the number of people you are inviting to dinner.\n"
   ]
  },
  {
   "cell_type": "code",
   "execution_count": 20,
   "id": "74fe35a1",
   "metadata": {},
   "outputs": [
    {
     "name": "stdout",
     "output_type": "stream",
     "text": [
      "Invitados: []\n",
      "Desinvitados: ['Maria', 'Sofia', 'Juan', 'Lola']\n",
      "[0, 2, 6, 5, 1, 3]\n",
      "[0, 1, 2, 3, 5, 6]\n"
     ]
    }
   ],
   "source": [
    "borrados = 0\n",
    "while borrados == 0:\n",
    "    del invitados[0]\n",
    "    if len(invitados) == 0:\n",
    "        borrados = 1\n",
    "\n",
    "print(f'Invitados: {invitados}')\n",
    "print(f'Desinvitados: {desinvitaciones}')\n",
    "\n",
    "\n",
    "arreglo = [0, 2, 6, 5, 1, 3]\n",
    "print(arreglo)\n",
    "print(sorted(arreglo))"
   ]
  },
  {
   "cell_type": "markdown",
   "id": "a9f9220c",
   "metadata": {},
   "source": [
    "**3-10.** Every Function: Think of something you could store in a list. For example, you could make a list of mountains, rivers, countries, cities, languages, or anything else you’d like. Write a program that creates a list containing these items and then uses each function introduced in this chapter at least once."
   ]
  },
  {
   "cell_type": "code",
   "execution_count": 21,
   "id": "e6f8562d",
   "metadata": {},
   "outputs": [
    {
     "name": "stdout",
     "output_type": "stream",
     "text": [
      "Se crea el listado de cosas de pileta:\n",
      "\t\tagua\n",
      "\t\tsaca bichos\n",
      "\t\tbarre fondo\n",
      "\t\tpelota\n",
      "\t\tflota flota\n",
      "\t\ttoalla\n",
      "\t\tinflables\n"
     ]
    }
   ],
   "source": [
    "pileta = [\"agua\", \"saca bichos\", \"barre fondo\", \"pelota\", \"flota flota\", \"toalla\", \"inflables\"]\n",
    "\n",
    "print(\"Se crea el listado de cosas de pileta:\")\n",
    "for i in pileta:\n",
    "    print(f\"\\t\\t{i}\")"
   ]
  },
  {
   "cell_type": "code",
   "execution_count": 22,
   "id": "a89a849c",
   "metadata": {},
   "outputs": [
    {
     "name": "stdout",
     "output_type": "stream",
     "text": [
      "La lista pileta posee: 7 elementos (se utiliza la funcion len())\n"
     ]
    }
   ],
   "source": [
    "print(f\"La lista pileta posee: {len(pileta)} elementos (se utiliza la funcion len())\")"
   ]
  },
  {
   "cell_type": "code",
   "execution_count": 23,
   "id": "33d03e7b",
   "metadata": {},
   "outputs": [
    {
     "name": "stdout",
     "output_type": "stream",
     "text": [
      "Metodo pileta[i].title():\n",
      "Agua\n",
      "Saca Bichos\n",
      "Barre Fondo\n",
      "Pelota\n",
      "Flota Flota\n",
      "Toalla\n",
      "Inflables\n"
     ]
    }
   ],
   "source": [
    "print(\"Metodo pileta[i].title():\")\n",
    "for i in range(len(pileta)):\n",
    "    print(pileta[i].title())"
   ]
  },
  {
   "cell_type": "code",
   "execution_count": 24,
   "id": "0ef46cbf",
   "metadata": {},
   "outputs": [
    {
     "name": "stdout",
     "output_type": "stream",
     "text": [
      "Metodo pileta[i].upper():\n",
      "AGUA\n",
      "SACA BICHOS\n",
      "BARRE FONDO\n",
      "PELOTA\n",
      "FLOTA FLOTA\n",
      "TOALLA\n",
      "INFLABLES\n"
     ]
    }
   ],
   "source": [
    "print(\"Metodo pileta[i].upper():\")\n",
    "for i in range(len(pileta)):\n",
    "    print(pileta[i].upper())"
   ]
  },
  {
   "cell_type": "code",
   "execution_count": 25,
   "id": "e68957b8",
   "metadata": {},
   "outputs": [
    {
     "name": "stdout",
     "output_type": "stream",
     "text": [
      "Metodo pileta[i].lower():\n",
      "agua\n",
      "saca bichos\n",
      "barre fondo\n",
      "pelota\n",
      "flota flota\n",
      "toalla\n",
      "inflables\n"
     ]
    }
   ],
   "source": [
    "print(\"Metodo pileta[i].lower():\")\n",
    "for i in range(len(pileta)):\n",
    "    print(pileta[i].lower())"
   ]
  },
  {
   "cell_type": "code",
   "execution_count": 26,
   "id": "bbbdf5b2",
   "metadata": {},
   "outputs": [
    {
     "name": "stdout",
     "output_type": "stream",
     "text": [
      "Metodo pileta.append('manguera'):\n",
      "['agua', 'saca bichos', 'barre fondo', 'pelota', 'flota flota', 'toalla', 'inflables', 'manguera']\n"
     ]
    }
   ],
   "source": [
    "print(\"Metodo pileta.append('manguera'):\")\n",
    "pileta.append(\"manguera\")\n",
    "print(pileta)"
   ]
  },
  {
   "cell_type": "code",
   "execution_count": 27,
   "id": "e20c6c8a",
   "metadata": {},
   "outputs": [
    {
     "name": "stdout",
     "output_type": "stream",
     "text": [
      "Metodo pileta.insert(0,'escalera')\n",
      "['agua', 'saca bichos', 'barre fondo', 'pelota', 'flota flota', 'toalla', 'inflables', 'manguera']\n",
      "['escalera', 'agua', 'saca bichos', 'barre fondo', 'pelota', 'flota flota', 'toalla', 'inflables', 'manguera']\n"
     ]
    }
   ],
   "source": [
    "print(\"Metodo pileta.insert(0,'escalera')\")\n",
    "print(pileta)\n",
    "pileta.insert(0, \"escalera\")\n",
    "print(pileta)"
   ]
  },
  {
   "cell_type": "code",
   "execution_count": 28,
   "id": "d4fe5b0e",
   "metadata": {},
   "outputs": [
    {
     "name": "stdout",
     "output_type": "stream",
     "text": [
      "Funcion del pileta[0]\n",
      "['escalera', 'agua', 'saca bichos', 'barre fondo', 'pelota', 'flota flota', 'toalla', 'inflables', 'manguera']\n",
      "['agua', 'saca bichos', 'barre fondo', 'pelota', 'flota flota', 'toalla', 'inflables', 'manguera']\n"
     ]
    }
   ],
   "source": [
    "print(\"Funcion del pileta[0]\")\n",
    "print(pileta)\n",
    "del pileta[0]\n",
    "print(pileta)"
   ]
  },
  {
   "cell_type": "code",
   "execution_count": 29,
   "id": "cdce671d",
   "metadata": {},
   "outputs": [
    {
     "name": "stdout",
     "output_type": "stream",
     "text": [
      "Metodo pileta.pop(2)\n",
      "['agua', 'saca bichos', 'barre fondo', 'pelota', 'flota flota', 'toalla', 'inflables', 'manguera']\n",
      "El listado actual es:\n",
      "\t agua\n",
      "\t saca bichos\n",
      "\t pelota\n",
      "\t flota flota\n",
      "\t toalla\n",
      "\t inflables\n",
      "\t manguera\n",
      "El elemento borrado fue:  barre fondo\n"
     ]
    }
   ],
   "source": [
    "print(\"Metodo pileta.pop(2)\")\n",
    "print(pileta)\n",
    "elemento_borrado = pileta.pop(2)\n",
    "print(\"El listado actual es:\")\n",
    "for i in range(len(pileta)):\n",
    "    print(\"\\t\", pileta[i])\n",
    "print(\"El elemento borrado fue: \", elemento_borrado)"
   ]
  },
  {
   "cell_type": "code",
   "execution_count": 30,
   "id": "82b1f077",
   "metadata": {},
   "outputs": [
    {
     "name": "stdout",
     "output_type": "stream",
     "text": [
      "Metodo pileta.remove('toalla'):\n",
      "['agua', 'saca bichos', 'pelota', 'flota flota', 'toalla', 'inflables', 'manguera']\n",
      "['agua', 'saca bichos', 'pelota', 'flota flota', 'inflables', 'manguera']\n"
     ]
    }
   ],
   "source": [
    "print(\"Metodo pileta.remove('toalla'):\")\n",
    "print(pileta)\n",
    "pileta.remove(\"toalla\")\n",
    "print(pileta)"
   ]
  },
  {
   "cell_type": "code",
   "execution_count": 31,
   "id": "dbd3c149",
   "metadata": {},
   "outputs": [
    {
     "name": "stdout",
     "output_type": "stream",
     "text": [
      "Metodo pileta.sort()\n",
      "['agua', 'saca bichos', 'pelota', 'flota flota', 'inflables', 'manguera']\n",
      "['agua', 'flota flota', 'inflables', 'manguera', 'pelota', 'saca bichos']\n"
     ]
    }
   ],
   "source": [
    "print(\"Metodo pileta.sort()\")\n",
    "print(pileta)\n",
    "pileta.sort()\n",
    "print(pileta)"
   ]
  },
  {
   "cell_type": "code",
   "execution_count": 32,
   "id": "70b74bd7",
   "metadata": {},
   "outputs": [
    {
     "name": "stdout",
     "output_type": "stream",
     "text": [
      "Metodo pileta.sort(reverse=True)\n",
      "['agua', 'flota flota', 'inflables', 'manguera', 'pelota', 'saca bichos']\n",
      "['saca bichos', 'pelota', 'manguera', 'inflables', 'flota flota', 'agua']\n"
     ]
    }
   ],
   "source": [
    "print(\"Metodo pileta.sort(reverse=True)\")\n",
    "print(pileta)\n",
    "pileta.sort(reverse=True)\n",
    "print(pileta)"
   ]
  },
  {
   "cell_type": "code",
   "execution_count": 33,
   "id": "0c76e079",
   "metadata": {},
   "outputs": [
    {
     "name": "stdout",
     "output_type": "stream",
     "text": [
      "Funcion sorted():\n",
      "['saca bichos', 'pelota', 'manguera', 'inflables', 'flota flota', 'agua']\n",
      "['agua', 'flota flota', 'inflables', 'manguera', 'pelota', 'saca bichos']\n"
     ]
    }
   ],
   "source": [
    "print(\"Funcion sorted():\")\n",
    "print(pileta)\n",
    "print(sorted(pileta))"
   ]
  },
  {
   "cell_type": "code",
   "execution_count": 34,
   "id": "e4b36ff4",
   "metadata": {},
   "outputs": [
    {
     "name": "stdout",
     "output_type": "stream",
     "text": [
      "Metodo pileta.reverse()\n",
      "['saca bichos', 'pelota', 'manguera', 'inflables', 'flota flota', 'agua']\n",
      "['agua', 'flota flota', 'inflables', 'manguera', 'pelota', 'saca bichos']\n",
      "\n",
      "SI SE ESCRIBE print(pileta.sort()) / print(pileta.sort(reverse=True)) / print(pileta.reverse())\n",
      "NO SE GENERA NINGUNA SALIDA, MOSTRANDO None\n"
     ]
    }
   ],
   "source": [
    "print(\"Metodo pileta.reverse()\")\n",
    "print(pileta)\n",
    "pileta.reverse()\n",
    "print(pileta)\n",
    "\n",
    "print(f\"\\nSI SE ESCRIBE print(pileta.sort()) / print(pileta.sort(reverse=True)) / print(pileta.reverse())\"\n",
    "      f\"\\nNO SE GENERA NINGUNA SALIDA, MOSTRANDO None\")"
   ]
  },
  {
   "cell_type": "code",
   "execution_count": null,
   "id": "bc16adac",
   "metadata": {},
   "outputs": [],
   "source": []
  }
 ],
 "metadata": {
  "kernelspec": {
   "display_name": "Python 3",
   "language": "python",
   "name": "python3"
  },
  "language_info": {
   "codemirror_mode": {
    "name": "ipython",
    "version": 3
   },
   "file_extension": ".py",
   "mimetype": "text/x-python",
   "name": "python",
   "nbconvert_exporter": "python",
   "pygments_lexer": "ipython3",
   "version": "3.8.8"
  }
 },
 "nbformat": 4,
 "nbformat_minor": 5
}
