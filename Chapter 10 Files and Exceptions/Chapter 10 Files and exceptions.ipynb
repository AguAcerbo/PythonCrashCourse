{
 "cells": [
  {
   "cell_type": "markdown",
   "id": "669313f8",
   "metadata": {},
   "source": [
    "# Chapter 10: Files and exceptions"
   ]
  },
  {
   "cell_type": "markdown",
   "id": "3844f06e",
   "metadata": {},
   "source": [
    "## Files\n",
    "\n",
    "\n",
    "open(file, mode='r', buffering=- 1, encoding=None, errors=None, newline=None, closefd=True, opener=None)\n",
    "\n",
    "Modes: \n",
    "- 'r': open for reading (default)\n",
    "- 'w': open for writing, **truncating the file first**\n",
    "- 'x': open for exclusive creation, failing if the file already exists\n",
    "- 'a': open for writing, appending to the end of file if it exists\n",
    "- 'b': binary mode\n",
    "- 't': text mode (default)\n",
    "- '+': open for updating (reading and writing)\n",
    "\n",
    "The default mode is 'r' (open for reading text, a synonym of 'rt'). Modes 'w+' and 'w+b' open and truncate the file. Modes 'r+' and 'r+b' open the file with no truncation\n",
    "\n",
    "**NOTE:** Python can only write strings to a text file. If you want to store numerical data in a text file, you'll have to convert the data to string format first using the str() function."
   ]
  },
  {
   "cell_type": "markdown",
   "id": "8248b677",
   "metadata": {},
   "source": [
    "### Reading a file\n",
    "**Reading a entire .txt file**"
   ]
  },
  {
   "cell_type": "code",
   "execution_count": 6,
   "id": "de2041f9",
   "metadata": {},
   "outputs": [
    {
     "name": "stdout",
     "output_type": "stream",
     "text": [
      "3.1415926535\n",
      "  8979323846\n",
      "  2643383279\n",
      "  \n"
     ]
    }
   ],
   "source": [
    "with open('pi_digits.txt') as file_object: \n",
    "    contents = file_object.read()\n",
    "#Tip: your don't need to call close(), Python will close it automatically when the with block finishes execution    \n",
    "    \n",
    "print(contents)"
   ]
  },
  {
   "cell_type": "code",
   "execution_count": 7,
   "id": "4262a8e8",
   "metadata": {},
   "outputs": [
    {
     "name": "stdout",
     "output_type": "stream",
     "text": [
      "3.1415926535\n",
      "  8979323846\n",
      "  2643383279\n"
     ]
    }
   ],
   "source": [
    "print(contents.rstrip()) # La ultima linea del archivo es una linea en blanco que la podemos quitar con rstrip()"
   ]
  },
  {
   "cell_type": "markdown",
   "id": "be4ef589",
   "metadata": {},
   "source": [
    "**Reading a .txt file line by line**"
   ]
  },
  {
   "cell_type": "code",
   "execution_count": 10,
   "id": "d7a83d75",
   "metadata": {},
   "outputs": [
    {
     "name": "stdout",
     "output_type": "stream",
     "text": [
      "3.1415926535\n",
      "\n",
      "  8979323846\n",
      "\n",
      "  2643383279\n",
      "\n",
      "  \n"
     ]
    }
   ],
   "source": [
    "filename = 'pi_digits.txt'\n",
    "with open(filename) as file_object:\n",
    "    for line in file_object:\n",
    "        print(line)"
   ]
  },
  {
   "cell_type": "markdown",
   "id": "53fdcd5e",
   "metadata": {},
   "source": [
    "The blank lines appear because an invisible newline characteris at the end of each line in the text file. The print function adds its own newline each time we call it, so we end up with two newline characters at the end of each line, (one from the file and one from the print())"
   ]
  },
  {
   "cell_type": "code",
   "execution_count": 9,
   "id": "aaedfcc3",
   "metadata": {},
   "outputs": [
    {
     "name": "stdout",
     "output_type": "stream",
     "text": [
      "3.1415926535\n",
      "  8979323846\n",
      "  2643383279\n",
      "\n"
     ]
    }
   ],
   "source": [
    "filename = 'pi_digits.txt'\n",
    "with open(filename) as file_object:\n",
    "    for line in file_object:\n",
    "        print(line.rstrip())"
   ]
  },
  {
   "cell_type": "markdown",
   "id": "19ec067d",
   "metadata": {},
   "source": [
    "**Making a List of Lines from a .txt file:** Saving on a list the data on a .txt file "
   ]
  },
  {
   "cell_type": "code",
   "execution_count": 12,
   "id": "9acb1e89",
   "metadata": {},
   "outputs": [
    {
     "name": "stdout",
     "output_type": "stream",
     "text": [
      "3.1415926535\n",
      "  8979323846\n",
      "  2643383279\n",
      "\n"
     ]
    }
   ],
   "source": [
    "with open(filename) as file_object:\n",
    "    lines = file_object.readlines() # readlines() method takes each line from the file and stores it in a list\n",
    "    \n",
    "for line in lines:\n",
    "    print(line.rstrip())"
   ]
  },
  {
   "cell_type": "markdown",
   "id": "c475c16a",
   "metadata": {},
   "source": [
    "**Reconstracting the pi number**"
   ]
  },
  {
   "cell_type": "code",
   "execution_count": 16,
   "id": "6e84bfe3",
   "metadata": {},
   "outputs": [
    {
     "name": "stdout",
     "output_type": "stream",
     "text": [
      "3.141592653589793\n"
     ]
    }
   ],
   "source": [
    "with open(filename) as file_object:\n",
    "    lines = file_object.readlines() # readlines() method takes each line from the file and stores it in a list\n",
    "\n",
    "pi_string = ''\n",
    "for line in lines:\n",
    "    pi_string += line.strip()\n",
    "\n",
    "print(float(pi_string))"
   ]
  },
  {
   "cell_type": "markdown",
   "id": "6897f80e",
   "metadata": {},
   "source": [
    "**NOTE:** When Python reads from a text file, it interprets all text in the file as a string. If you read a numeber and you want to work with it you can convert it with *int()* or *float()* functions."
   ]
  },
  {
   "cell_type": "code",
   "execution_count": 23,
   "id": "8c8bbbde",
   "metadata": {},
   "outputs": [
    {
     "name": "stdout",
     "output_type": "stream",
     "text": [
      "Enter your birhday, in the form ddmmyy: 13021993\n",
      "Your birthday does not appear in the first million digits of pi\n"
     ]
    }
   ],
   "source": [
    "filename = 'pi_million_digits.txt'\n",
    "with open(filename) as file_object:\n",
    "    lines = file_object.readlines()\n",
    "\n",
    "pi_string = ''\n",
    "for line in lines:\n",
    "    pi_string += line.strip()\n",
    "\n",
    "birthday = input(\"Enter your birhday, in the form ddmmyy: \")\n",
    "\n",
    "if birthday in pi_string:\n",
    "    print('Your birthday appears in the first million digits of pi')\n",
    "else:\n",
    "    print('Your birthday does not appear in the first million digits of pi')"
   ]
  },
  {
   "cell_type": "markdown",
   "id": "45b8718b",
   "metadata": {},
   "source": [
    "**10-1 Learning Python**"
   ]
  },
  {
   "cell_type": "code",
   "execution_count": 29,
   "id": "d609370d",
   "metadata": {},
   "outputs": [
    {
     "name": "stdout",
     "output_type": "stream",
     "text": [
      "In Python you can solve math problems\n",
      "In Python you can make machine learning models\n",
      "In Python you can make a neural network\n"
     ]
    }
   ],
   "source": [
    "filename = 'learning_python.txt'\n",
    "with open(filename) as file_object:\n",
    "    lines = file_object.readlines()\n",
    "\n",
    "python_101 = ''\n",
    "\n",
    "for line in lines:\n",
    "    python_101 += line\n",
    "\n",
    "print(python_101)\n"
   ]
  },
  {
   "cell_type": "markdown",
   "id": "57c0c7bc",
   "metadata": {},
   "source": [
    "**10-2 Learning C**"
   ]
  },
  {
   "cell_type": "code",
   "execution_count": 31,
   "id": "65f17b54",
   "metadata": {},
   "outputs": [
    {
     "name": "stdout",
     "output_type": "stream",
     "text": [
      "In C you can solve math problems\n",
      "In C you can make machine learning models\n",
      "In C you can make a neural network\n"
     ]
    }
   ],
   "source": [
    "python_102 = python_101.replace('Python', 'C')\n",
    "print(python_102)"
   ]
  },
  {
   "cell_type": "markdown",
   "id": "ce2a8417",
   "metadata": {},
   "source": [
    "### Writing to a file"
   ]
  },
  {
   "cell_type": "markdown",
   "id": "db71db0f",
   "metadata": {},
   "source": [
    "**Writing to an Empty File**"
   ]
  },
  {
   "cell_type": "code",
   "execution_count": 1,
   "id": "f5d9f485",
   "metadata": {},
   "outputs": [],
   "source": [
    "filename = 'programming.txt'\n",
    "with open(filename, 'w') as file_object: #if it does not exist it will create the file.\n",
    "    file_object.write('I love programming.')"
   ]
  },
  {
   "cell_type": "markdown",
   "id": "1fab97a2",
   "metadata": {},
   "source": [
    "**Writing multiple lines**"
   ]
  },
  {
   "cell_type": "code",
   "execution_count": 2,
   "id": "4dd87d41",
   "metadata": {},
   "outputs": [],
   "source": [
    "with open(filename, 'w') as file_object: #if it does not exist it will create the file.\n",
    "    file_object.write('I love programming.\\n')\n",
    "    file_object.write('I love creating machine learing models.\\n')"
   ]
  },
  {
   "cell_type": "markdown",
   "id": "f4a48488",
   "metadata": {},
   "source": [
    "**Appending to a file**"
   ]
  },
  {
   "cell_type": "code",
   "execution_count": 3,
   "id": "71e44eb3",
   "metadata": {},
   "outputs": [],
   "source": [
    "filename = 'programming.txt'\n",
    "with open(filename, 'a') as file_object:\n",
    "    file_object.write('I also love finding meaning in large datasets.')"
   ]
  },
  {
   "cell_type": "markdown",
   "id": "c3f2dcfb",
   "metadata": {},
   "source": [
    "**10.3 Guest**"
   ]
  },
  {
   "cell_type": "code",
   "execution_count": 4,
   "id": "47e9d2ce",
   "metadata": {},
   "outputs": [
    {
     "name": "stdout",
     "output_type": "stream",
     "text": [
      "Enter your name: Agustin\n"
     ]
    }
   ],
   "source": [
    "name = input(\"Enter your name: \")\n",
    "\n",
    "filename = 'guest.txt'\n",
    "with open(filename, 'w') as file_object:\n",
    "    file_object.write(name)"
   ]
  },
  {
   "cell_type": "markdown",
   "id": "172cc4a1",
   "metadata": {},
   "source": [
    "**10.4 Guest Book**"
   ]
  },
  {
   "cell_type": "code",
   "execution_count": 7,
   "id": "dc2c54bc",
   "metadata": {},
   "outputs": [
    {
     "name": "stdout",
     "output_type": "stream",
     "text": [
      "Enter your name: Agustin\n",
      "Enter your name: Sofia\n",
      "Enter your name: Esteban\n",
      "Enter your name: Ignacio\n",
      "Enter your name: Rafael\n",
      "Enter your name: Maria\n",
      "Enter your name: Clara\n",
      "Enter your name: Jose\n",
      "Enter your name: \n"
     ]
    }
   ],
   "source": [
    "filename = 'guest_book.txt'\n",
    "name = ' '\n",
    "with open(filename, 'w') as file_object:\n",
    "    while name != '':\n",
    "        name = input(\"Enter your name: \")\n",
    "        file_object.write(name+'\\n')"
   ]
  },
  {
   "cell_type": "markdown",
   "id": "48ceac5f",
   "metadata": {},
   "source": [
    "**10.5 Programming Poll**"
   ]
  },
  {
   "cell_type": "code",
   "execution_count": 8,
   "id": "b94bd60c",
   "metadata": {},
   "outputs": [
    {
     "name": "stdout",
     "output_type": "stream",
     "text": [
      "Why do you like programming? I like programming because I find it challenging.\n",
      "Why do you like programming? I like programming since I like solve problems\n",
      "Why do you like programming? I like programming as you can learn a lot about different disciplines.\n",
      "Why do you like programming? \n"
     ]
    }
   ],
   "source": [
    "filename = 'programming_poll.txt'\n",
    "reason = ' '\n",
    "with open(filename, 'w') as file_object:\n",
    "    while reason != '':\n",
    "        reason = input(\"Why do you like programming? \")\n",
    "        if reason != '':\n",
    "            file_object.write(reason+'\\n')"
   ]
  },
  {
   "cell_type": "markdown",
   "id": "e7b84430",
   "metadata": {},
   "source": [
    "## Exceptions\n",
    "\n",
    "Whenever an error occurs that makes Python unsure what to do next, it creates an exception object. If you write code that handles the exception, the program will continue running. If not, the program will halt and show a traceback, which includes a report of the exception that was raised.\n",
    "\n",
    "Exceptions are handled with *try-except* blocks, that ask Python to do something, buet it also tells Python what to do if an excpetion is raised."
   ]
  },
  {
   "cell_type": "code",
   "execution_count": 10,
   "id": "c9669b10",
   "metadata": {},
   "outputs": [
    {
     "ename": "ZeroDivisionError",
     "evalue": "division by zero",
     "output_type": "error",
     "traceback": [
      "\u001b[1;31m---------------------------------------------------------------------------\u001b[0m",
      "\u001b[1;31mZeroDivisionError\u001b[0m                         Traceback (most recent call last)",
      "Input \u001b[1;32mIn [10]\u001b[0m, in \u001b[0;36m<cell line: 1>\u001b[1;34m()\u001b[0m\n\u001b[1;32m----> 1\u001b[0m \u001b[38;5;28mprint\u001b[39m(\u001b[38;5;241;43m5\u001b[39;49m\u001b[38;5;241;43m/\u001b[39;49m\u001b[38;5;241;43m0\u001b[39;49m)\n",
      "\u001b[1;31mZeroDivisionError\u001b[0m: division by zero"
     ]
    }
   ],
   "source": [
    "print(5/0)"
   ]
  },
  {
   "cell_type": "code",
   "execution_count": 11,
   "id": "a686fa80",
   "metadata": {},
   "outputs": [
    {
     "name": "stdout",
     "output_type": "stream",
     "text": [
      "You can't dived by zero\n"
     ]
    }
   ],
   "source": [
    "try:\n",
    "    print(5/0)\n",
    "except ZeroDivisionError:\n",
    "    print(\"You can't dived by zero\")"
   ]
  },
  {
   "cell_type": "markdown",
   "id": "12ce75bd",
   "metadata": {},
   "source": [
    "**10.6 Addition & 10.7 Addition Calculator:**"
   ]
  },
  {
   "cell_type": "code",
   "execution_count": 12,
   "id": "69b3ba74",
   "metadata": {},
   "outputs": [
    {
     "name": "stdout",
     "output_type": "stream",
     "text": [
      "Give me two numbers, and I'll add them.\n",
      "Enter 'q' to quit.\n",
      "\\First number: a\n",
      "\\Second number: b\n",
      "You introduce a invalid value\n",
      "\\First number: 1\n",
      "\\Second number: 2\n",
      "1 + 2 = 3\n",
      "\\First number: 5\n",
      "\\Second number: 6\n",
      "5 + 6 = 11\n",
      "\\First number: 8\n",
      "\\Second number: 6+\n",
      "You introduce a invalid value\n",
      "\\First number: \n",
      "\\Second number: q\n"
     ]
    }
   ],
   "source": [
    "print(\"Give me two numbers, and I'll add them.\")\n",
    "print(\"Enter 'q' to quit.\")\n",
    "\n",
    "while True:\n",
    "    first_number = input('\\First number: ')\n",
    "    if first_number == 'q':\n",
    "        break\n",
    "    second_number = input('\\Second number: ')\n",
    "    if second_number == 'q':\n",
    "        break\n",
    "    \n",
    "    try:\n",
    "        answer = int(first_number) + int(second_number)\n",
    "    except ValueError:\n",
    "        print('You introduce a invalid value')\n",
    "    else:\n",
    "        print(f\"{first_number} + {second_number} = {answer}\")\n"
   ]
  },
  {
   "cell_type": "markdown",
   "id": "14cd1bc7",
   "metadata": {},
   "source": [
    "## Storing Data\n",
    "\n",
    "A json module allows you to dump siple Python data structures into a file and load the data from that file the next time the program runs. Even more, you can share data you store in the JSON format with people who work in many other programming languages. It's useful and protable format, and it's easy to learn."
   ]
  },
  {
   "cell_type": "markdown",
   "id": "4b86dcc9",
   "metadata": {},
   "source": [
    "**Using json.dump() and json.load()**\n",
    "\n",
    "json.dump() function takes two arguments: a piece of data to store and a file object it can use to store the data:"
   ]
  },
  {
   "cell_type": "code",
   "execution_count": 13,
   "id": "f9ee4840",
   "metadata": {},
   "outputs": [],
   "source": [
    "import json\n",
    "\n",
    "numbers = [2, 3, 5, 7, 11, 13]\n",
    "\n",
    "filename = 'numbers.json'\n",
    "with open(filename, 'w') as f:\n",
    "    json.dump(numbers,f)"
   ]
  },
  {
   "cell_type": "code",
   "execution_count": 14,
   "id": "6742047d",
   "metadata": {},
   "outputs": [
    {
     "name": "stdout",
     "output_type": "stream",
     "text": [
      "[2, 3, 5, 7, 11, 13]\n"
     ]
    }
   ],
   "source": [
    "with open(filename, 'r') as f:\n",
    "    numb = json.load(f)\n",
    "    \n",
    "print(numb)"
   ]
  }
 ],
 "metadata": {
  "kernelspec": {
   "display_name": "Python 3 (ipykernel)",
   "language": "python",
   "name": "python3"
  },
  "language_info": {
   "codemirror_mode": {
    "name": "ipython",
    "version": 3
   },
   "file_extension": ".py",
   "mimetype": "text/x-python",
   "name": "python",
   "nbconvert_exporter": "python",
   "pygments_lexer": "ipython3",
   "version": "3.9.12"
  }
 },
 "nbformat": 4,
 "nbformat_minor": 5
}
