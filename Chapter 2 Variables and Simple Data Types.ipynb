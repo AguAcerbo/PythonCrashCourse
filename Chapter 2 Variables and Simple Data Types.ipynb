{
 "cells": [
  {
   "cell_type": "markdown",
   "id": "9d5d22a0",
   "metadata": {},
   "source": [
    "# Chapter 2: Variables and Simple Data Types\n",
    "<p style='text-align: justify;'>\n",
    "In this chapter you’ll learn about the different kinds of data you can work with in your Python programs. You’ll also learn \n",
    "how to use variables to represent data in your programs.\n",
    "<p>"
   ]
  },
  {
   "cell_type": "markdown",
   "id": "7640c7e1",
   "metadata": {},
   "source": [
    "**2-1.** Assign a message to a variable, and then print that message."
   ]
  },
  {
   "cell_type": "code",
   "execution_count": 1,
   "id": "7bedd1e8",
   "metadata": {},
   "outputs": [
    {
     "name": "stdout",
     "output_type": "stream",
     "text": [
      "Hello Python World\n",
      "Hola mundo de python\n"
     ]
    }
   ],
   "source": [
    "print(\"Hello Python World\")\n",
    "message = \"Hola mundo de python\"\n",
    "print(message)"
   ]
  },
  {
   "cell_type": "markdown",
   "id": "a4b1fff2",
   "metadata": {},
   "source": [
    "**2-2.** Assign a message to a variable, and print that message. Then change the value of the variable to a new message, and print the new message."
   ]
  },
  {
   "cell_type": "code",
   "execution_count": 2,
   "id": "aa2c5166",
   "metadata": {},
   "outputs": [
    {
     "name": "stdout",
     "output_type": "stream",
     "text": [
      "Hola mundo de python\n",
      "hola soy AGUSTIN\n"
     ]
    }
   ],
   "source": [
    "message1 = \"Hola mundo de python\"\n",
    "print(message1)\n",
    "\n",
    "message1= \"hola soy AGUSTIN\"\n",
    "print(message1)"
   ]
  },
  {
   "cell_type": "markdown",
   "id": "eef7f7a5",
   "metadata": {},
   "source": [
    "**2-3.** Personal Message: Use a variable to represent a person’s name, and print a message to that person. Your message should be simple, such as, “Hello Eric, would you like to learn some Python today?”"
   ]
  },
  {
   "cell_type": "code",
   "execution_count": 3,
   "id": "f887514a",
   "metadata": {},
   "outputs": [
    {
     "name": "stdout",
     "output_type": "stream",
     "text": [
      "hola soy AGUSTIN\n"
     ]
    }
   ],
   "source": [
    "message = \"hola soy AGUSTIN\"\n",
    "print(message)"
   ]
  },
  {
   "cell_type": "markdown",
   "id": "444a96aa",
   "metadata": {},
   "source": [
    "**2-4.** Name Cases: Use a variable to represent a person’s name, and then print that person’s name in lowercase, uppercase, and title case.\n"
   ]
  },
  {
   "cell_type": "code",
   "execution_count": 4,
   "id": "e61f31a1",
   "metadata": {},
   "outputs": [
    {
     "name": "stdout",
     "output_type": "stream",
     "text": [
      "\n",
      "Uso de los metodos title() / upper() / lower()\n",
      "Hola Soy Agustin\n",
      "HOLA SOY AGUSTIN\n",
      "hola soy agustin\n"
     ]
    }
   ],
   "source": [
    "print(\"\\nUso de los metodos title() / upper() / lower()\")\n",
    "message = \"hola soy AGUSTIN\"\n",
    "print(message.title())\n",
    "print(message.upper())\n",
    "print(message.lower())"
   ]
  },
  {
   "cell_type": "markdown",
   "id": "a5020cf0",
   "metadata": {},
   "source": [
    "**2-5.** Famous Quote: Find a quote from a famous person you admire. Print the quote and the name of its author. Your output should look something like the following, including the quotation marks: Albert Einstein once said, “A person who never made a \n",
    "mistake never tried anything new.”\n"
   ]
  },
  {
   "cell_type": "code",
   "execution_count": 5,
   "id": "2335bea8",
   "metadata": {},
   "outputs": [
    {
     "name": "stdout",
     "output_type": "stream",
     "text": [
      "Nikolas Tesla once said, 'Si quieres encontrar los secretos del universo, piensa en términos de energía, frecuencia y vibración'\n"
     ]
    }
   ],
   "source": [
    "print(\"Nikolas Tesla once said, 'Si quieres encontrar los secretos del universo, piensa en términos de energía, frecuencia y vibración'\")"
   ]
  },
  {
   "cell_type": "markdown",
   "id": "8c1706ac",
   "metadata": {},
   "source": [
    "**2-6.** Famous Quote 2: Repeat Exercise 2-5, but this time, represent the famous person’s name using a variable called famous_person. Then compose your message and represent it with a new variable called message. Print your message.\n"
   ]
  },
  {
   "cell_type": "code",
   "execution_count": 6,
   "id": "0544a6fa",
   "metadata": {},
   "outputs": [
    {
     "name": "stdout",
     "output_type": "stream",
     "text": [
      "Nikolas Tesla once said 'Si quieres encontrar los secretos del universo, piensa en términos de energía, frecuencia y vibración'\n"
     ]
    }
   ],
   "source": [
    "famouse_person = \"Nikolas Tesla\"\n",
    "message = \"Si quieres encontrar los secretos del universo, piensa en términos de energía, frecuencia y vibración\"\n",
    "\n",
    "print(f\"{famouse_person} once said '{message}'\")"
   ]
  },
  {
   "cell_type": "markdown",
   "id": "f979c743",
   "metadata": {},
   "source": [
    "**2-7.** Stripping Names: Use a variable to represent a person’s name, and include some whitespace characters at the beginning and end of the name. Make sure you use each character combination, \"\\t\" and \"\\n\", at least once. Print the name once, so the whitespace around the name is displayed. Then print the name using each of the three stripping functions, lstrip(), rstrip(), and strip()."
   ]
  },
  {
   "cell_type": "code",
   "execution_count": 7,
   "id": "0e4be001",
   "metadata": {},
   "outputs": [
    {
     "name": "stdout",
     "output_type": "stream",
     "text": [
      "\n",
      "Usos del lstrip() / rstrip() / strip()\n",
      "Mensaje original:\n",
      "\t   hola este mensaje contiene espacios al comienzo y al final   \n",
      "\tLongitud del mensaje 64\n",
      "mensaje.lstrip():\n",
      "\thola este mensaje contiene espacios al comienzo y al final   \n",
      "\tLongitud del mensaje 61\n",
      "mensaje.rstrip():\n",
      "\t   hola este mensaje contiene espacios al comienzo y al final\n",
      "\tLongitud del mensaje 61\n",
      "mensaje.strip():\n",
      "\thola este mensaje contiene espacios al comienzo y al final\n",
      "\tLongitud del mensaje 58\n"
     ]
    }
   ],
   "source": [
    "# In this exercise differents strips methods are tested.\n",
    "\n",
    "print(\"\\nUsos del lstrip() / rstrip() / strip()\")\n",
    "mensaje = \"   hola este mensaje contiene espacios al comienzo y al final   \"\n",
    "print(f\"Mensaje original:\\n\\t{mensaje}\\n\\tLongitud del mensaje {len(mensaje)}\")\n",
    "print(f\"mensaje.lstrip():\\n\\t{mensaje.lstrip()}\\n\\tLongitud del mensaje {len(mensaje.lstrip())}\")\n",
    "print(f\"mensaje.rstrip():\\n\\t{mensaje.rstrip()}\\n\\tLongitud del mensaje {len(mensaje.rstrip())}\")\n",
    "print(f\"mensaje.strip():\\n\\t{mensaje.strip()}\\n\\tLongitud del mensaje {len(mensaje.strip())}\")"
   ]
  },
  {
   "cell_type": "markdown",
   "id": "22fbde8d",
   "metadata": {},
   "source": [
    "**2-8.** Number Eight: Write addition, subtraction, multiplication, and division operations that each result in the number 8. Be sure to enclose your operations in print() calls to see the results. You should create four lines that look like this: print(5+3). Your output should simply be four lines with the number 8 appearing once on each line."
   ]
  },
  {
   "cell_type": "code",
   "execution_count": 8,
   "id": "fcc245bf",
   "metadata": {},
   "outputs": [
    {
     "name": "stdout",
     "output_type": "stream",
     "text": [
      "----------------------------------------------\n",
      "Evaluacion de numeros\n",
      "----------------------------------------------\n",
      "print(3+5): 8\n",
      "print(2*4): 8\n",
      "print(9-1): 8\n",
      "print(16/2): 8.0\n"
     ]
    }
   ],
   "source": [
    "print(\"----------------------------------------------\\nEvaluacion de numeros\")\n",
    "print(\"----------------------------------------------\")\n",
    "print(f\"print(3+5): {5+3}\")\n",
    "print(f\"print(2*4): {2*4}\")\n",
    "print(f\"print(9-1): {9-1}\")\n",
    "print(f\"print(16/2): {16/2}\")"
   ]
  },
  {
   "cell_type": "markdown",
   "id": "fad63d92",
   "metadata": {},
   "source": [
    "**2-9.** Favorite Number: Use a variable to represent your favorite number. Then, using that variable, create a message that reveals your favorite number. Print that message."
   ]
  },
  {
   "cell_type": "code",
   "execution_count": 9,
   "id": "2591c12a",
   "metadata": {},
   "outputs": [
    {
     "name": "stdout",
     "output_type": "stream",
     "text": [
      "My favourite number is 13\n"
     ]
    }
   ],
   "source": [
    "# In this exercise my favourite number is printed\n",
    "f_number = 13\n",
    "print(f\"My favourite number is {f_number}\")"
   ]
  },
  {
   "cell_type": "markdown",
   "id": "dac73fe2",
   "metadata": {},
   "source": [
    "**2-10.** Adding Comments: Choose two exercises, and add at least one comment to each. If you don’t have anything specific to write because your programs are too simple at this point, just add your name and the current date at the top of each program file. Then write one sentence describing what the program does."
   ]
  },
  {
   "cell_type": "markdown",
   "id": "83e01f2c",
   "metadata": {},
   "source": [
    "Exercises 2.7 and 2.9 are commented."
   ]
  },
  {
   "cell_type": "markdown",
   "id": "9a00b333",
   "metadata": {},
   "source": [
    "**2-11.** Zen of Python: Enter import this into a Python terminal session and skim through the additional principles."
   ]
  },
  {
   "cell_type": "code",
   "execution_count": 10,
   "id": "d872b32f",
   "metadata": {},
   "outputs": [
    {
     "name": "stdout",
     "output_type": "stream",
     "text": [
      "The Zen of Python, by Tim Peters\n",
      "\n",
      "Beautiful is better than ugly.\n",
      "Explicit is better than implicit.\n",
      "Simple is better than complex.\n",
      "Complex is better than complicated.\n",
      "Flat is better than nested.\n",
      "Sparse is better than dense.\n",
      "Readability counts.\n",
      "Special cases aren't special enough to break the rules.\n",
      "Although practicality beats purity.\n",
      "Errors should never pass silently.\n",
      "Unless explicitly silenced.\n",
      "In the face of ambiguity, refuse the temptation to guess.\n",
      "There should be one-- and preferably only one --obvious way to do it.\n",
      "Although that way may not be obvious at first unless you're Dutch.\n",
      "Now is better than never.\n",
      "Although never is often better than *right* now.\n",
      "If the implementation is hard to explain, it's a bad idea.\n",
      "If the implementation is easy to explain, it may be a good idea.\n",
      "Namespaces are one honking great idea -- let's do more of those!\n"
     ]
    }
   ],
   "source": [
    "import this"
   ]
  }
 ],
 "metadata": {
  "kernelspec": {
   "display_name": "Python 3",
   "language": "python",
   "name": "python3"
  },
  "language_info": {
   "codemirror_mode": {
    "name": "ipython",
    "version": 3
   },
   "file_extension": ".py",
   "mimetype": "text/x-python",
   "name": "python",
   "nbconvert_exporter": "python",
   "pygments_lexer": "ipython3",
   "version": "3.8.8"
  }
 },
 "nbformat": 4,
 "nbformat_minor": 5
}
